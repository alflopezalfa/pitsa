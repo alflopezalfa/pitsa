{
 "cells": [
  {
   "cell_type": "code",
   "execution_count": 1,
   "metadata": {},
   "outputs": [],
   "source": [
    "import os\n",
    "import shutil"
   ]
  },
  {
   "cell_type": "code",
   "execution_count": 2,
   "metadata": {},
   "outputs": [
    {
     "name": "stdout",
     "output_type": "stream",
     "text": [
      "Copied ..\\..\\4_results\\figures\\2_1_bapc_step\\1_step_bapc.png to ..\\..\\4_results\\figures\\figures_for_paper\\1_step_bapc.png\n",
      "Copied ..\\..\\4_results\\figures\\2_1_bapc_step\\1_step_data.png to ..\\..\\4_results\\figures\\figures_for_paper\\1_step_data.png\n",
      "Copied ..\\..\\4_results\\figures\\2_1_bapc_step\\1_step_lime.png to ..\\..\\4_results\\figures\\figures_for_paper\\1_step_lime.png\n",
      "Copied ..\\..\\4_results\\figures\\2_2_bapc_ramp\\2_ramp_bapc.png to ..\\..\\4_results\\figures\\figures_for_paper\\2_ramp_bapc.png\n",
      "Copied ..\\..\\4_results\\figures\\2_2_bapc_ramp\\2_ramp_data.png to ..\\..\\4_results\\figures\\figures_for_paper\\2_ramp_data.png\n",
      "Copied ..\\..\\4_results\\figures\\2_2_bapc_ramp\\2_ramp_lime.png to ..\\..\\4_results\\figures\\figures_for_paper\\2_ramp_lime.png\n",
      "Copied ..\\..\\4_results\\figures\\2_3_bapc_sinacp\\3_sinacp_bapc.png to ..\\..\\4_results\\figures\\figures_for_paper\\3_sinacp_bapc.png\n",
      "Copied ..\\..\\4_results\\figures\\2_3_bapc_sinacp\\3_sinacp_data.png to ..\\..\\4_results\\figures\\figures_for_paper\\3_sinacp_data.png\n",
      "Copied ..\\..\\4_results\\figures\\2_4_bapc_sinfcp\\4_sinfcp_bapc.png to ..\\..\\4_results\\figures\\figures_for_paper\\4_sinfcp_bapc.png\n",
      "Copied ..\\..\\4_results\\figures\\2_4_bapc_sinfcp\\4_sinfcp_data.png to ..\\..\\4_results\\figures\\figures_for_paper\\4_sinfcp_data.png\n",
      "Copied ..\\..\\4_results\\figures\\2_5_bapc_window\\1_step_win_bapc.png to ..\\..\\4_results\\figures\\figures_for_paper\\1_step_win_bapc.png\n",
      "Copied ..\\..\\4_results\\figures\\2_5_bapc_window\\1_step_win_data.png to ..\\..\\4_results\\figures\\figures_for_paper\\1_step_win_data.png\n",
      "Copied ..\\..\\4_results\\figures\\2_5_bapc_window\\2_ramp_win_bapc.png to ..\\..\\4_results\\figures\\figures_for_paper\\2_ramp_win_bapc.png\n",
      "Copied ..\\..\\4_results\\figures\\2_5_bapc_window\\2_ramp_win_data.png to ..\\..\\4_results\\figures\\figures_for_paper\\2_ramp_win_data.png\n",
      "Copied ..\\..\\4_results\\figures\\2_6_bapc_sequential\\5_step_large_bapc_heatmap.png to ..\\..\\4_results\\figures\\figures_for_paper\\5_step_large_bapc_heatmap.png\n",
      "Copied ..\\..\\4_results\\figures\\2_6_bapc_sequential\\5_step_large_seq_data.png to ..\\..\\4_results\\figures\\figures_for_paper\\5_step_large_seq_data.png\n",
      "Copied ..\\..\\4_results\\figures\\2_6_bapc_sequential\\6_ramp_large_bapc_heatmap.png to ..\\..\\4_results\\figures\\figures_for_paper\\6_ramp_large_bapc_heatmap.png\n",
      "Copied ..\\..\\4_results\\figures\\2_6_bapc_sequential\\6_ramp_large_seq_data.png to ..\\..\\4_results\\figures\\figures_for_paper\\6_ramp_large_seq_data.png\n",
      "Copied ..\\..\\4_results\\figures\\2_7_bapc_air_passengers\\AirPassengers_data.png to ..\\..\\4_results\\figures\\figures_for_paper\\AirPassengers_data.png\n",
      "Copied ..\\..\\4_results\\figures\\2_7_bapc_air_passengers\\AirPassengers_heatmap_amplitude.png to ..\\..\\4_results\\figures\\figures_for_paper\\AirPassengers_heatmap_amplitude.png\n",
      "Copied ..\\..\\4_results\\figures\\2_7_bapc_air_passengers\\AirPassengers_heatmap_intercept.png to ..\\..\\4_results\\figures\\figures_for_paper\\AirPassengers_heatmap_intercept.png\n",
      "Copied ..\\..\\4_results\\figures\\2_7_bapc_air_passengers\\AirPassengers_heatmap_phase.png to ..\\..\\4_results\\figures\\figures_for_paper\\AirPassengers_heatmap_phase.png\n",
      "Copied ..\\..\\4_results\\figures\\2_7_bapc_air_passengers\\AirPassengers_heatmap_quadratic.png to ..\\..\\4_results\\figures\\figures_for_paper\\AirPassengers_heatmap_quadratic.png\n",
      "Copied ..\\..\\4_results\\figures\\2_7_bapc_air_passengers\\AirPassengers_heatmap_slope.png to ..\\..\\4_results\\figures\\figures_for_paper\\AirPassengers_heatmap_slope.png\n",
      "Copied ..\\..\\4_results\\figures\\2_7_bapc_air_passengers\\AirPassengers_heatmap_sum.png to ..\\..\\4_results\\figures\\figures_for_paper\\AirPassengers_heatmap_sum.png\n",
      "Copied ..\\..\\4_results\\figures\\3_1_additional_figures\\1_bapc.png to ..\\..\\4_results\\figures\\figures_for_paper\\1_bapc.png\n",
      "Copied ..\\..\\4_results\\figures\\3_1_additional_figures\\2_bapc.png to ..\\..\\4_results\\figures\\figures_for_paper\\2_bapc.png\n",
      "Copied ..\\..\\4_results\\figures\\3_1_additional_figures\\3_bapc.png to ..\\..\\4_results\\figures\\figures_for_paper\\3_bapc.png\n",
      "Copied ..\\..\\4_results\\figures\\3_1_additional_figures\\legend_1.png to ..\\..\\4_results\\figures\\figures_for_paper\\legend_1.png\n",
      "Copied ..\\..\\4_results\\figures\\3_1_additional_figures\\legend_2.png to ..\\..\\4_results\\figures\\figures_for_paper\\legend_2.png\n",
      "Copied ..\\..\\4_results\\figures\\3_1_additional_figures\\seqbapc.png to ..\\..\\4_results\\figures\\figures_for_paper\\seqbapc.png\n"
     ]
    }
   ],
   "source": [
    "fig_base = '..\\\\..\\\\4_results\\\\figures'\n",
    "out_folder = '..\\\\..\\\\4_results\\\\figures\\\\figures_for_paper'\n",
    "\n",
    "# make the output folder if it does not exist\n",
    "if not os.path.exists(out_folder):\n",
    "    os.makedirs(out_folder)\n",
    "    print('Created output folder: {}'.format(out_folder))\n",
    "\n",
    "# list all the directories with numeric prexix in the figures directory\n",
    "dirs = [d for d in os.listdir(fig_base) if os.path.isdir(os.path.join(fig_base, d)) and d[0].isdigit()]\n",
    "\n",
    "for d in dirs:\n",
    "    # copy all the files from the directory to the output folder\n",
    "    files = os.listdir(os.path.join(fig_base, d))\n",
    "    for f in files:\n",
    "        src = os.path.join(fig_base, d, f)\n",
    "        dst = os.path.join(out_folder, f)\n",
    "        shutil.copy(src, dst)\n",
    "        print('Copied {} to {}'.format(src, dst))"
   ]
  }
 ],
 "metadata": {
  "kernelspec": {
   "display_name": "pitsa_lite",
   "language": "python",
   "name": "python3"
  },
  "language_info": {
   "codemirror_mode": {
    "name": "ipython",
    "version": 3
   },
   "file_extension": ".py",
   "mimetype": "text/x-python",
   "name": "python",
   "nbconvert_exporter": "python",
   "pygments_lexer": "ipython3",
   "version": "3.12.2"
  }
 },
 "nbformat": 4,
 "nbformat_minor": 2
}
