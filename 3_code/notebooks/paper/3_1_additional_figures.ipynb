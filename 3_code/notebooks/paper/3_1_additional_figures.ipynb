{
 "cells": [
  {
   "cell_type": "code",
   "execution_count": 1,
   "metadata": {},
   "outputs": [],
   "source": [
    "import os\n",
    "import numpy as np\n",
    "import pandas as pd"
   ]
  },
  {
   "cell_type": "code",
   "execution_count": null,
   "metadata": {},
   "outputs": [],
   "source": [
    "# Please enter the output figure folder\n",
    "fig_base = '../../../4_results/figures'\n",
    "\n",
    "# save the figures ?\n",
    "save_fig = True\n",
    "\n",
    "# current convention\n",
    "notebook_name, _  = os.path.splitext(os.path.basename(globals()['__vsc_ipynb_file__']))\n",
    "fig_folder = os.path.join(fig_base, notebook_name)\n",
    "\n",
    "if save_fig and not os.path.exists(fig_folder):\n",
    "    print('Folder {} was created'.form(fig_folder))\n",
    "    os.mkdir(fig_folder)"
   ]
  },
  {
   "cell_type": "markdown",
   "metadata": {},
   "source": [
    "# BAPC"
   ]
  },
  {
   "cell_type": "code",
   "execution_count": 3,
   "metadata": {},
   "outputs": [
    {
     "data": {
      "text/html": [
       "<svg  width=\"220\" height=\"55\"><rect x=\"0\" y=\"0\" width=\"55\" height=\"55\" style=\"fill:#4c72b0;stroke-width:2;stroke:rgb(255,255,255)\"/><rect x=\"55\" y=\"0\" width=\"55\" height=\"55\" style=\"fill:#eb811b;stroke-width:2;stroke:rgb(255,255,255)\"/><rect x=\"110\" y=\"0\" width=\"55\" height=\"55\" style=\"fill:#14b03d;stroke-width:2;stroke:rgb(255,255,255)\"/><rect x=\"165\" y=\"0\" width=\"55\" height=\"55\" style=\"fill:#604c38;stroke-width:2;stroke:rgb(255,255,255)\"/></svg>"
      ],
      "text/plain": [
       "[(0.2980392156862745, 0.4470588235294118, 0.6901960784313725),\n",
       " (0.9215686274509803, 0.5058823529411764, 0.10588235294117647),\n",
       " (0.0784313725490196, 0.6901960784313725, 0.23921568627450981),\n",
       " (0.3764705882352941, 0.2980392156862745, 0.2196078431372549)]"
      ]
     },
     "execution_count": 3,
     "metadata": {},
     "output_type": "execute_result"
    }
   ],
   "source": [
    "import matplotlib.pyplot as plt\n",
    "import seaborn as sns\n",
    "import matplotx \n",
    "#import scienceplots\n",
    "\n",
    "colors = ['#4C72B0', '#EB811B', '#14B03D', '#604C38']\n",
    "sns.color_palette(sns.set_palette(sns.color_palette(colors)))"
   ]
  },
  {
   "cell_type": "code",
   "execution_count": 4,
   "metadata": {},
   "outputs": [
    {
     "data": {
      "image/png": "[encoded data removed]",
      "text/plain": [
       "<Figure size 250x250 with 1 Axes>"
      ]
     },
     "metadata": {},
     "output_type": "display_data"
    }
   ],
   "source": [
    "n_samples = 96\n",
    "tast = 48\n",
    "y = np.concatenate((np.zeros(tast), 2*np.ones(n_samples-tast)))\n",
    "df = pd.DataFrame(y, columns=['y'])\n",
    "df.index.name = 't'\n",
    "\n",
    "n_train = df.shape[0]\n",
    "look_back = int(n_train/2)\n",
    "tast = 48\n",
    "t = df.index.values\n",
    "\n",
    "with sns.plotting_context(\"talk\"):\n",
    "\n",
    "    # first axis\n",
    "    f, ax = plt.subplots(figsize=(2.5, 2.5))\n",
    "\n",
    "    # data y\n",
    "    ax.plot(t[:tast], df['y'].loc[:tast-1], color='tab:blue')\n",
    "    ax.plot(t[tast:], df['y'].loc[tast:], color='tab:blue', label=r'$y$')\n",
    "    ax.scatter(tast, df['y'].loc[tast], color='tab:blue', s=100)\n",
    "    ax.plot(t, np.ones_like(t), color='#EB811B', label=r'$f_{\\theta_0}$')\n",
    "\n",
    "    # xticks\n",
    "    xticks = np.array([0, tast, n_train])\n",
    "    xlabels = [r'$1$', r'$(n/2) + 1$', r'$n$']\n",
    "    ax.set_xticks(xticks, labels=xlabels)\n",
    "\n",
    "    # yticks\n",
    "    yticks = np.array([0, 1, 2])\n",
    "    ylabels = [0, 1, 2]\n",
    "    ax.set_yticks(yticks, labels=ylabels)\n",
    "\n",
    "    # phantom ehat\n",
    "    l = ax.plot(t, 1.5*np.ones_like(t), color='w', label=r'$-\\widehat{\\varepsilon}$')\n",
    "    l[0].set_visible(False)\n",
    "    matplotx.line_labels(ax=ax, fontsize='large')  # line labels to the right\n",
    "\n",
    "    # window\n",
    "    ax.plot(t, 2.4*np.ones_like(t), color='w')\n",
    "    ht = 2.4\n",
    "    x1 = tast\n",
    "    x2 = n_train\n",
    "\n",
    "    ax.annotate(\"\", xy=(x1, ht), xytext=(x2, ht), textcoords=ax.transData, arrowprops=dict(arrowstyle='|-|', mutation_scale=10))\n",
    "    bbox=dict(fc=\"white\", ec=\"none\", boxstyle=\"square,pad=0.1\")\n",
    "    ax.text(x1 + (x2-x1)/2, ht, \"r\", ha=\"center\", va=\"center\", bbox=bbox);\n",
    "\n",
    "    sns.despine()\n",
    "\n",
    "    # save figure\n",
    "    if save_fig:\n",
    "        fig_name = os.path.join(fig_folder, '1_bapc')\n",
    "        plt.savefig(fig_name + '.png', dpi=300, bbox_inches='tight')"
   ]
  },
  {
   "cell_type": "code",
   "execution_count": 5,
   "metadata": {},
   "outputs": [
    {
     "data": {
      "image/png": "[encoded data removed]",
      "text/plain": [
       "<Figure size 250x250 with 1 Axes>"
      ]
     },
     "metadata": {},
     "output_type": "display_data"
    }
   ],
   "source": [
    "with sns.plotting_context(\"talk\"):\n",
    "\n",
    "    # first axis\n",
    "    f, ax = plt.subplots(figsize=(2.5, 2.5))\n",
    "\n",
    "    # data y\n",
    "    ax.plot(t[:tast], df['y'].loc[:tast-1], color='tab:blue')\n",
    "    ax.plot(t[tast:], df['y'].loc[tast:], color='tab:blue', label=r'$y$')\n",
    "    ax.scatter(tast, df['y'].loc[tast], color='tab:blue', s=100)\n",
    "    ax.plot(t, np.ones_like(t), color='#EB811B', label=r'$f_{\\theta_0}$')\n",
    "\n",
    "    # xticks\n",
    "    xticks = np.array([0, tast, n_train])\n",
    "    xlabels = [r'$1$', r'$(n/2) + 1$', r'$n$']\n",
    "    ax.set_xticks(xticks, labels=xlabels)\n",
    "\n",
    "    # yticks\n",
    "    yticks = np.array([0, 1, 2])\n",
    "    ylabels = [0, 1, 2]\n",
    "    ax.set_yticks(yticks, labels=ylabels, color='w')\n",
    "\n",
    "    # ehat\n",
    "    l = ax.plot(t, 1.5*np.ones_like(t), color='#14B03D', label=r'$-\\widehat{\\varepsilon}$')\n",
    "    l[0].set_visible(False)\n",
    "    \n",
    "    for i in range(tast+10, n_train, 10):\n",
    "        ax.annotate('', xy=(t[i], 1), xytext=(t[i], df['y'].iloc[i]),\n",
    "                        arrowprops=dict(edgecolor='#14B03D', facecolor='#14B03D',  shrink=0.1))\n",
    "\n",
    "    # legend\n",
    "    matplotx.line_labels(ax=ax, fontsize='large')  # line labels to the right\n",
    "\n",
    "    # window\n",
    "    ax.plot(t, 2.4*np.ones_like(t), color='w')\n",
    "    ht = 2.4\n",
    "    x1 = tast\n",
    "    x2 = n_train\n",
    "\n",
    "    ax.annotate(\"\", xy=(x1, ht), xytext=(x2, ht), textcoords=ax.transData, arrowprops=dict(arrowstyle='|-|', mutation_scale=10))\n",
    "    bbox=dict(fc=\"white\", ec=\"none\", boxstyle=\"square,pad=0.1\")\n",
    "    ax.text(x1 + (x2-x1)/2, ht, \"r\", ha=\"center\", va=\"center\", bbox=bbox);\n",
    "\n",
    "    sns.despine()\n",
    "\n",
    "    # save figure\n",
    "    if save_fig:\n",
    "        fig_name = os.path.join(fig_folder, '2_bapc')\n",
    "        plt.savefig(fig_name + '.png', dpi=300, bbox_inches='tight')"
   ]
  },
  {
   "cell_type": "code",
   "execution_count": 7,
   "metadata": {},
   "outputs": [
    {
     "data": {
      "image/png": "[encoded data removed]",
      "text/plain": [
       "<Figure size 250x250 with 1 Axes>"
      ]
     },
     "metadata": {},
     "output_type": "display_data"
    }
   ],
   "source": [
    "with sns.plotting_context(\"talk\"):\n",
    "\n",
    "    # first axis\n",
    "    f, ax = plt.subplots(figsize=(2.5, 2.5))\n",
    "\n",
    "    # data y\n",
    "    ax.plot(t[:tast], 0.5*df['y'].loc[:tast-1], color='tab:blue')\n",
    "    ax.plot(t[tast:], 0.5*df['y'].loc[tast:], color='tab:blue', label=r'$y^\\prime$')\n",
    "    ax.scatter(tast, 0.5*df['y'].loc[tast], color='tab:blue', s=100)\n",
    "    ax.plot(t, 0.5*np.ones_like(t), color='#604C38', label=r'$f_{\\theta_r}$')\n",
    "\n",
    "    # xticks\n",
    "    xticks = np.array([0, tast, n_train])\n",
    "    xlabels = [r'$1$', r'$(n/2) + 1$', r'$n$']\n",
    "    ax.set_xticks(xticks, labels=xlabels)\n",
    "\n",
    "    # yticks\n",
    "    yticks = np.array([0, 1, 2])\n",
    "    ylabels = [0, 1, 2]\n",
    "    ax.set_yticks(yticks, labels=ylabels, color='w')\n",
    "\n",
    "    # ehat\n",
    "    l = ax.plot(t, 1.5*np.ones_like(t), color='#14B03D', label=r'$-\\widehat{\\varepsilon}$')\n",
    "    l[0].set_visible(False)\n",
    "    \n",
    "    for i in range(tast+10, n_train, 10):\n",
    "        ax.annotate('', xy=(t[i], 1), xytext=(t[i], df['y'].iloc[i]),\n",
    "                        arrowprops=dict(edgecolor='#14B03D', facecolor='#14B03D',  shrink=0.1))\n",
    "        \n",
    "\n",
    "    # legend\n",
    "    matplotx.line_labels(ax=ax, fontsize='large')  # line labels to the right\n",
    "\n",
    "    # window\n",
    "    ax.plot(t, 2.4*np.ones_like(t), color='w')\n",
    "    ht = 2.4\n",
    "    x1 = tast\n",
    "    x2 = n_train\n",
    "\n",
    "    ax.annotate(\"\", xy=(x1, ht), xytext=(x2, ht), textcoords=ax.transData, arrowprops=dict(arrowstyle='|-|', mutation_scale=10))\n",
    "    bbox=dict(fc=\"white\", ec=\"none\", boxstyle=\"square,pad=0.1\")\n",
    "    ax.text(x1 + (x2-x1)/2, ht, \"r\", ha=\"center\", va=\"center\", bbox=bbox);\n",
    "\n",
    "    sns.despine()\n",
    "\n",
    "    # save figure\n",
    "    if save_fig:\n",
    "        fig_name = os.path.join(fig_folder, '3_bapc')\n",
    "        plt.savefig(fig_name + '.png', dpi=300, bbox_inches='tight')"
   ]
  },
  {
   "cell_type": "markdown",
   "metadata": {},
   "source": [
    "# SBAPC"
   ]
  },
  {
   "cell_type": "code",
   "execution_count": 8,
   "metadata": {},
   "outputs": [],
   "source": [
    "import matplotlib.pyplot as plt\n",
    "import seaborn as sns"
   ]
  },
  {
   "cell_type": "code",
   "execution_count": 16,
   "metadata": {},
   "outputs": [
    {
     "data": {
      "image/png": "[encoded data removed]",
      "text/plain": [
       "<Figure size 1400x250 with 1 Axes>"
      ]
     },
     "metadata": {},
     "output_type": "display_data"
    }
   ],
   "source": [
    "n_samples = 240\n",
    "n_train = 60\n",
    "look_back = 30\n",
    "tast = 120\n",
    "t = np.arange(n_samples)\n",
    "\n",
    "y = np.concatenate((np.zeros(tast), 2*np.ones(n_samples-tast)))\n",
    "df = pd.DataFrame(y, columns=['y'])\n",
    "df.index.name = 't'\n",
    "\n",
    "y = np.full(np.shape(t), np.nan)\n",
    "y[n_train:tast-look_back] = 0\n",
    "y[tast-look_back:tast] = 0.5 * (t[tast-look_back:tast] - tast + look_back) /(look_back)\n",
    "y[tast:tast+look_back] = 0.5 * (-t[tast:tast+look_back] + tast + look_back) /(look_back)\n",
    "y[tast+look_back:] = 0\n",
    "\n",
    "with sns.plotting_context(\"talk\"):\n",
    "    \n",
    "    f, ax = plt.subplots(1, 1, figsize=(14, 2.5), sharex=True)\n",
    "\n",
    "    ax.plot(t[:tast], df['y'].loc[:tast-1], color='tab:blue', label=r'$y$')\n",
    "    ax.plot(t[tast:], df['y'].loc[tast:], color='tab:blue')\n",
    "    ax.scatter(tast, df['y'].loc[tast], color='tab:blue', s=100)\n",
    "    ax.plot(t, y, color='tab:red', label=r'$\\Delta \\theta_r^s$')\n",
    "\n",
    "    xi = 0\n",
    "    x0 = tast - look_back \n",
    "    x1 = tast\n",
    "    x2 = tast + look_back\n",
    "    xf =  len(t)-1\n",
    "    xticks = np.array([xi, x0, x1, x2, xf])\n",
    "    xlabels = ['1', r'$t^{\\ast}-r-1$', r'$t^{\\ast}$', r'$t^{\\ast}+r$', r'$m$']\n",
    "    ax.set_xticks(xticks, labels=xlabels)\n",
    "    ax.set_xlabel(r'time $s$')\n",
    "    yticks = np.array([0, 0.5, 1, 2])\n",
    "    ylabels = [0, r'$\\frac{1}{2}$', 1, 2]\n",
    "    ax.set_yticks(yticks,labels=ylabels)\n",
    "\n",
    "    # second window\n",
    "    ht = 1.7\n",
    "    ax.annotate(\"\", xy=(x0, ht), xytext=(x2, ht), textcoords=ax.transData, arrowprops=dict(arrowstyle='|-|',mutation_scale=10, shrinkA=0, shrinkB=0))\n",
    "    bbox=dict(fc=\"white\", ec=\"none\", boxstyle=\"square,pad=0.1\")\n",
    "    ax.text(x0 + (x2-x0)/2, ht, \"n\", ha=\"center\", va=\"center\", bbox=bbox);\n",
    "\n",
    "    ht = 1.3\n",
    "    ax.annotate(\"\", xy=(x1, ht), xytext=(x2, ht), textcoords=ax.transData, arrowprops=dict(arrowstyle='|-|',mutation_scale=10, shrinkA=0, shrinkB=0))\n",
    "    bbox=dict(fc=\"white\", ec=\"none\", boxstyle=\"square,pad=0.1\")\n",
    "    ax.text(x1 + (x2-x1)/2, ht, \"r\", ha=\"center\", va=\"center\", bbox=bbox);\n",
    "\n",
    "    # legend outside right\n",
    "    ax.legend(loc='upper right', bbox_to_anchor=(1.15, 1.0), frameon=False, fontsize='large')\n",
    "\n",
    "    # first window\n",
    "    x0 = 0\n",
    "    x1 = look_back - 1\n",
    "    x2 = n_train - 1\n",
    "    ht = 1.7\n",
    "    ax.annotate(\"\", xy=(x0, ht), xytext=(x2, ht), textcoords=ax.transData, arrowprops=dict(arrowstyle='|-|',mutation_scale=10, shrinkA=0, shrinkB=0))\n",
    "    bbox=dict(fc=\"white\", ec=\"none\", boxstyle=\"square,pad=0.1\")\n",
    "    ax.text(x0 + (x2-x0)/2, ht, \"n\", ha=\"center\", va=\"center\", bbox=bbox);\n",
    "\n",
    "    ht = 1.3\n",
    "    ax.annotate(\"\", xy=(x1, ht), xytext=(x2, ht), textcoords=ax.transData, arrowprops=dict(arrowstyle='|-|',mutation_scale=10, shrinkA=0, shrinkB=0))\n",
    "    bbox=dict(fc=\"white\", ec=\"none\", boxstyle=\"square,pad=0.1\")\n",
    "    ax.text(x1 + (x2-x1)/2, ht, \"r\", ha=\"center\", va=\"center\", bbox=bbox);\n",
    "\n",
    "\n",
    "    # third window\n",
    "    x0 = len(t) - n_train\n",
    "    x1 = len(t) - look_back \n",
    "    x2 = len(t) - 1\n",
    "    ht = 1.7\n",
    "    ax.annotate(\"\", xy=(x0, ht), xytext=(x2, ht), textcoords=ax.transData, arrowprops=dict(arrowstyle='|-|',mutation_scale=10, shrinkA=0, shrinkB=0))\n",
    "    bbox=dict(fc=\"white\", ec=\"none\", boxstyle=\"square,pad=0.1\")\n",
    "    ax.text(x0 + (x2-x0)/2, ht, \"n\", ha=\"center\", va=\"center\", bbox=bbox);\n",
    "\n",
    "    ht = 1.3\n",
    "    ax.annotate(\"\", xy=(x1, ht), xytext=(x2, ht), textcoords=ax.transData, arrowprops=dict(arrowstyle='|-|',mutation_scale=10, shrinkA=0, shrinkB=0))\n",
    "    bbox=dict(fc=\"white\", ec=\"none\", boxstyle=\"square,pad=0.1\")\n",
    "    ax.text(x1 + (x2-x1)/2, ht, \"r\", ha=\"center\", va=\"center\", bbox=bbox);\n",
    "\n",
    "    sns.despine()\n",
    "\n",
    "    if save_fig:\n",
    "        fig_name = os.path.join(fig_folder, 'seqbapc.png')\n",
    "        plt.savefig(fig_name, bbox_inches='tight', dpi=300)"
   ]
  },
  {
   "cell_type": "markdown",
   "metadata": {},
   "source": [
    "# Legends"
   ]
  },
  {
   "cell_type": "code",
   "execution_count": 9,
   "metadata": {},
   "outputs": [],
   "source": [
    "import os\n",
    "from matplotlib.lines import Line2D\n",
    "import matplotlib.pyplot as plt\n",
    "import seaborn as sns"
   ]
  },
  {
   "cell_type": "code",
   "execution_count": 10,
   "metadata": {},
   "outputs": [
    {
     "name": "stdout",
     "output_type": "stream",
     "text": [
      "Legend ../../../4_results/figures\\3_1_additional_figures\\legend_1.png was saved\n"
     ]
    },
    {
     "data": {
      "image/png": "[encoded data removed]",
      "text/plain": [
       "<Figure size 75x125 with 1 Axes>"
      ]
     },
     "metadata": {},
     "output_type": "display_data"
    }
   ],
   "source": [
    "label1 = r'$\\bf{y}$'\n",
    "label2 = r'$\\bf{f_{\\theta_r}}$'\n",
    "label3 = r'$\\bf{f_{\\theta_0} + \\Delta f_r}$'\n",
    "\n",
    "with sns.plotting_context(\"talk\"):\n",
    "       \n",
    "       legend_elements = [Line2D([0], [0], color='tab:blue', label=label1),\n",
    "                          Line2D([0], [0], color='w', label=label2), \n",
    "                          Line2D([0], [0], color='w', label=label3)]\n",
    "       \n",
    "\n",
    "       fig_legend = plt.figure(figsize=(0.75, 1.25))\n",
    "       ax_legend = fig_legend.add_subplot(111)\n",
    "\n",
    "       legend = ax_legend.legend(handles=legend_elements, \n",
    "                                 loc='center', \n",
    "                                 frameon=False,\n",
    "                                 handlelength=1)\n",
    "       ax_legend.axis('off')      \n",
    "\n",
    "       for text in legend.get_texts():\n",
    "              if text.get_text() in [label2, label3]:\n",
    "                     text.set_color(\"w\") \n",
    "\n",
    "       if save_fig: \n",
    "\n",
    "              # Save the legend as a PNG file\n",
    "              legend_name = os.path.join(fig_folder, 'legend_1.png')\n",
    "              fig_legend.savefig(legend_name, bbox_inches='tight', dpi=300)\n",
    "              print(f'Legend {legend_name} was saved') "
   ]
  },
  {
   "cell_type": "code",
   "execution_count": 11,
   "metadata": {},
   "outputs": [
    {
     "name": "stdout",
     "output_type": "stream",
     "text": [
      "Legend ../../../4_results/figures\\3_1_additional_figures\\legend_2.png was saved\n"
     ]
    },
    {
     "data": {
      "image/png": "[encoded data removed]",
      "text/plain": [
       "<Figure size 75x125 with 1 Axes>"
      ]
     },
     "metadata": {},
     "output_type": "display_data"
    }
   ],
   "source": [
    "\n",
    "# From metropolis.mplstyle\n",
    "colors = ['#4C72B0', '#EB811B', '#14B03D', '#604C38']\n",
    "palette = sns.color_palette(sns.set_palette(sns.color_palette(colors)))\n",
    "c3 = palette[1]\n",
    "c4 = palette[3]\n",
    "\n",
    "label1 = r'$\\bf{y}$'\n",
    "label2 = r'$\\bf{f_{\\theta_r}}$'\n",
    "label3 = r'$\\bf{f_{\\theta_0} + \\Delta f_r}$'\n",
    "\n",
    "with sns.plotting_context(\"talk\"):\n",
    "       \n",
    "       legend_elements = [Line2D([0], [0], color='tab:blue', label=label1),\n",
    "                          Line2D([0], [0], color='#604C38', label=label2), \n",
    "                          Line2D([0], [0], color='#EB811B', label=label3)]\n",
    "       \n",
    "\n",
    "       fig_legend = plt.figure(figsize=(0.75, 1.25))\n",
    "       ax_legend = fig_legend.add_subplot(111)\n",
    "\n",
    "       legend = ax_legend.legend(handles=legend_elements, \n",
    "                            loc='center', \n",
    "                            frameon=False,\n",
    "                            handlelength=1)\n",
    "       ax_legend.axis('off')  \n",
    "\n",
    "       if save_fig:    \n",
    "\n",
    "              # Save the legend as a PNG file\n",
    "              legend_name = os.path.join(fig_folder, 'legend_2.png')\n",
    "              fig_legend.savefig(legend_name, bbox_inches='tight', dpi=300)\n",
    "              print(f'Legend {legend_name} was saved') "
   ]
  },
  {
   "cell_type": "markdown",
   "metadata": {},
   "source": [
    "# Bottom"
   ]
  }
 ],
 "metadata": {
  "kernelspec": {
   "display_name": "pitsa_lite",
   "language": "python",
   "name": "python3"
  },
  "language_info": {
   "codemirror_mode": {
    "name": "ipython",
    "version": 3
   },
   "file_extension": ".py",
   "mimetype": "text/x-python",
   "name": "python",
   "nbconvert_exporter": "python",
   "pygments_lexer": "ipython3",
   "version": "3.12.2"
  }
 },
 "nbformat": 4,
 "nbformat_minor": 2
}
