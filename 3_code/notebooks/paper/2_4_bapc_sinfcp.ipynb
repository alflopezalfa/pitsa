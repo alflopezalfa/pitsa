{
 "cells": [
  {
   "cell_type": "markdown",
   "metadata": {},
   "source": [
    "<a id=\"top\"></a>\n",
    " <font size=\"5\">BAPC</font>\n",
    "> \n",
    "\n",
    "> * Prepared by Alfredo López\n",
    "> * alfredo.lopez@scch.at\n",
    "> \n",
    "<hr>\n",
    "<hr>"
   ]
  },
  {
   "cell_type": "markdown",
   "metadata": {},
   "source": [
    "# Import"
   ]
  },
  {
   "cell_type": "code",
   "execution_count": 1,
   "metadata": {},
   "outputs": [],
   "source": [
    "import os\n",
    "import numpy as np\n",
    "import pandas as pd\n",
    "import pitsa_lite as pitsa\n",
    "import seaborn as sns\n",
    "import matplotlib.pyplot as plt\n",
    "from sklearn.neighbors import KNeighborsRegressor\n",
    "from IPython.display import display"
   ]
  },
  {
   "cell_type": "markdown",
   "metadata": {},
   "source": [
    "# Workflow"
   ]
  },
  {
   "cell_type": "markdown",
   "metadata": {},
   "source": [
    "- **Inputs**  \n",
    "    - **Data** A time series from a sinusoidal with a change in amplitud and phase (non-homogeneous driven harmonic oscillator) \n",
    "    - **Base model** : robust AR(2) $f_{(\\varphi_1, \\varphi_2)}(t) = \\Phi_1(t, \\varphi)y_2 + \\Phi_2(t, \\varphi)y_1$ depending on a parameter $\\theta=(\\varphi_1, \\varphi_2)$ the auto regressive coefficients\n",
    "    - **Correction model**: K-Neares-Neighboor (default) or LSTM \n",
    "- **BAPC**\n",
    "- **Explainability**  \n",
    "    - **Explanation**: vector $\\Delta \\theta$.\n",
    "    - **Importance**: vector $I \\theta $"
   ]
  },
  {
   "cell_type": "markdown",
   "metadata": {},
   "source": [
    "# Input"
   ]
  },
  {
   "cell_type": "code",
   "execution_count": 2,
   "metadata": {},
   "outputs": [],
   "source": [
    "csv_file = '4_sinfcp'\n",
    "\n",
    "base_model_name = 'RobustAutoRegressiveRegression'\n",
    "correction_model_name = 'KNN' # fast but less accurate forecast\n",
    "#correction_model_name = 'LSTM' # slow but more accurate forecast\n",
    "\n",
    "forecast_lenght = 0 #forecast lenght\n",
    "correction_window = 80 # correction window size"
   ]
  },
  {
   "cell_type": "markdown",
   "metadata": {},
   "source": [
    "# Folders"
   ]
  },
  {
   "cell_type": "code",
   "execution_count": 3,
   "metadata": {},
   "outputs": [],
   "source": [
    "# Please enter the input data folder \n",
    "data_folder = '../../../2_data/processed/synthetic'\n",
    "\n",
    "# Please enter the output figure folder\n",
    "fig_base = '../../../4_results/figures'\n",
    "\n",
    "# save the figures ?\n",
    "save_fig = True\n",
    "\n",
    "# current convention\n",
    "notebook_name, _  = os.path.splitext(os.path.basename(globals()['__vsc_ipynb_file__']))\n",
    "fig_folder = os.path.join(fig_base, notebook_name)\n",
    "\n",
    "if save_fig and not os.path.exists(fig_folder):\n",
    "    print('Folder {} was created'.format(fig_folder))\n",
    "    os.mkdir(fig_folder)"
   ]
  },
  {
   "cell_type": "markdown",
   "metadata": {},
   "source": [
    "# Data"
   ]
  },
  {
   "cell_type": "code",
   "execution_count": 4,
   "metadata": {},
   "outputs": [
    {
     "name": "stdout",
     "output_type": "stream",
     "text": [
      "Figure ../../../4_results/figures\\2_4_bapc_sinfcp\\4_sinfcp_data.png was saved\n"
     ]
    },
    {
     "data": {
      "image/png": "[encoded data removed]",
      "text/plain": [
       "<Figure size 300x250 with 1 Axes>"
      ]
     },
     "metadata": {},
     "output_type": "display_data"
    }
   ],
   "source": [
    "# time series reading\n",
    "file_name = os.path.join(data_folder, csv_file + '.csv')\n",
    "df = pd.read_csv(file_name, index_col='t')\n",
    "df.reset_index(drop=True, inplace=True)\n",
    "\n",
    "# plot\n",
    "tast = 80\n",
    "t = df.index.values\n",
    "n_train = df.shape[0]\n",
    "\n",
    "with sns.plotting_context(\"talk\"):\n",
    "    \n",
    "    f, ax = plt.subplots(figsize=(3, 2.5))\n",
    "    ax.plot(df.index, df['y'], color='tab:blue', label=r'$y$')\n",
    "\n",
    "    xticks = np.array([0, tast-1, n_train-1])\n",
    "    ax.set_xticks(xticks, labels=xticks+1)\n",
    "    plt.locator_params(axis='y', nbins=3)\n",
    "    ylim = (-1.74, 1.6) # this is for the paper only\n",
    "    ax.set_ylim(ylim)\n",
    "    sns.despine()\n",
    "\n",
    "    if save_fig:\n",
    "        fig_name = os.path.join(fig_folder, '{}_data.png'.format(csv_file))\n",
    "        plt.savefig(fig_name, bbox_inches='tight', dpi=300)\n",
    "        print('Figure {} was saved'.format(fig_name))"
   ]
  },
  {
   "cell_type": "markdown",
   "metadata": {},
   "source": [
    "# Base model"
   ]
  },
  {
   "cell_type": "code",
   "execution_count": 5,
   "metadata": {},
   "outputs": [],
   "source": [
    "if base_model_name == 'RobustAutoRegressiveRegression':\n",
    "    fit_args = {'robust':tast}\n",
    "    base_model = pitsa.models.timeseries.RobustAutoRegressive(fit_args=fit_args)\n",
    "else:\n",
    "    error_msg = 'Model {} is not instantiated. Use this place to instantiate your new base model'.format(base_model_name)\n",
    "    raise ValueError(error_msg)"
   ]
  },
  {
   "cell_type": "markdown",
   "metadata": {},
   "source": [
    "# Correction model"
   ]
  },
  {
   "cell_type": "code",
   "execution_count": 6,
   "metadata": {},
   "outputs": [],
   "source": [
    "if correction_model_name == 'KNN':\n",
    "    model = KNeighborsRegressor(n_neighbors=1) #Set n_neighbors=1 for perfect fit\n",
    "    correction_model = pitsa.models.regression.SKLearnModel(model, name='1NN')\n",
    "elif correction_model_name == 'LSTM':\n",
    "    fit_args={'epochs':400, 'verbose':False}\n",
    "    period = 48\n",
    "    ar_order = int(period/2)\n",
    "    SEED = 2022\n",
    "    correction_model = pitsa.models.timeseries.RNN(model=None, ar_order=ar_order, fit_args=fit_args, name='LSTM')\n",
    "    correction_model.initialize(lstm_units=16, SEED=SEED)"
   ]
  },
  {
   "cell_type": "markdown",
   "metadata": {},
   "source": [
    "# BAPC"
   ]
  },
  {
   "cell_type": "code",
   "execution_count": 7,
   "metadata": {},
   "outputs": [],
   "source": [
    "# intialize\n",
    "explainer = pitsa.xai.bapc.Explainer(\n",
    "base_model=base_model, \n",
    "correction_model=correction_model\n",
    ")\n",
    "\n",
    "# train data\n",
    "t = df['y'] .index.values\n",
    "y = df['y'] .values.flatten()\n",
    "\n",
    "# update\n",
    "explainer.update(t=t, y=y, correction_window=correction_window, fit_residual=True)\n",
    "\n",
    "# forecast\n",
    "if forecast_lenght > 0: \n",
    "    explainer.forecast(forecast_lenght=forecast_lenght)"
   ]
  },
  {
   "cell_type": "markdown",
   "metadata": {},
   "source": [
    "# Explainability"
   ]
  },
  {
   "cell_type": "code",
   "execution_count": 8,
   "metadata": {},
   "outputs": [
    {
     "name": "stdout",
     "output_type": "stream",
     "text": [
      "Figure was saved as ../../../4_results/figures\\2_4_bapc_sinfcp\\4_sinfcp_bapc.png\n"
     ]
    },
    {
     "data": {
      "image/png": "[encoded data removed]",
      "text/plain": [
       "<Figure size 300x250 with 1 Axes>"
      ]
     },
     "metadata": {},
     "output_type": "display_data"
    }
   ],
   "source": [
    "with sns.plotting_context(\"talk\"):\n",
    "\n",
    "    ax = explainer.plot(figsize=(3, 2.5)) \n",
    "    plt.locator_params(axis='x', nbins=3)\n",
    "    plt.locator_params(axis='y', nbins=3)\n",
    "    ax.set_xticks(xticks, labels=xticks+1)\n",
    "    ax.axvline(x=n_train - 1, color='gray', linestyle='--')\n",
    "    ax.set_ylim(ylim) # this is for the paper only\n",
    "    sns.despine()\n",
    "\n",
    "    # save the figure\n",
    "    if save_fig:\n",
    "        fig_name = os.path.join(fig_folder, '{}_bapc.png'.format(csv_file))\n",
    "        plt.savefig(fig_name, bbox_inches='tight', dpi=300)\n",
    "        print('Figure was saved as {}'.format(fig_name))"
   ]
  },
  {
   "cell_type": "code",
   "execution_count": 9,
   "metadata": {},
   "outputs": [
    {
     "name": "stdout",
     "output_type": "stream",
     "text": [
      "Computing IG for AR model with high precision\n",
      "Precision: 60\n"
     ]
    },
    {
     "data": {
      "text/html": [
       "<div>\n",
       "<style scoped>\n",
       "    .dataframe tbody tr th:only-of-type {\n",
       "        vertical-align: middle;\n",
       "    }\n",
       "\n",
       "    .dataframe tbody tr th {\n",
       "        vertical-align: top;\n",
       "    }\n",
       "\n",
       "    .dataframe thead th {\n",
       "        text-align: right;\n",
       "    }\n",
       "</style>\n",
       "<table border=\"1\" class=\"dataframe\">\n",
       "  <thead>\n",
       "    <tr style=\"text-align: right;\">\n",
       "      <th></th>\n",
       "      <th>ar.L1</th>\n",
       "      <th>ar.L2</th>\n",
       "    </tr>\n",
       "  </thead>\n",
       "  <tbody>\n",
       "    <tr>\n",
       "      <th>159</th>\n",
       "      <td>-3.1</td>\n",
       "      <td>0.3</td>\n",
       "    </tr>\n",
       "  </tbody>\n",
       "</table>\n",
       "</div>"
      ],
      "text/plain": [
       "     ar.L1  ar.L2\n",
       "159   -3.1    0.3"
      ]
     },
     "metadata": {},
     "output_type": "display_data"
    },
    {
     "data": {
      "text/html": [
       "<div>\n",
       "<style scoped>\n",
       "    .dataframe tbody tr th:only-of-type {\n",
       "        vertical-align: middle;\n",
       "    }\n",
       "\n",
       "    .dataframe tbody tr th {\n",
       "        vertical-align: top;\n",
       "    }\n",
       "\n",
       "    .dataframe thead th {\n",
       "        text-align: right;\n",
       "    }\n",
       "</style>\n",
       "<table border=\"1\" class=\"dataframe\">\n",
       "  <thead>\n",
       "    <tr style=\"text-align: right;\">\n",
       "      <th></th>\n",
       "      <th>ar.L1</th>\n",
       "      <th>ar.L2</th>\n",
       "    </tr>\n",
       "  </thead>\n",
       "  <tbody>\n",
       "    <tr>\n",
       "      <th>159</th>\n",
       "      <td>46.0</td>\n",
       "      <td>-6.0</td>\n",
       "    </tr>\n",
       "  </tbody>\n",
       "</table>\n",
       "</div>"
      ],
      "text/plain": [
       "     ar.L1  ar.L2\n",
       "159   46.0   -6.0"
      ]
     },
     "metadata": {},
     "output_type": "display_data"
    }
   ],
   "source": [
    "# integrated gradient at t\n",
    "t = n_train - 1\n",
    "\n",
    "explanation, importance = explainer.explain(t=t, hp=True, precision=60)\n",
    "    \n",
    "display(100*explanation.round(3))\n",
    "display(100*importance.round(2))\n",
    "\n",
    "surrogate_correction = explainer.first_base_model_at_t_test[t] - explainer.second_base_model_at_t_test[t]\n",
    "assert np.allclose(np.sum(importance.values), surrogate_correction, atol=0.01), 'Sum of the importance ({}) is not equal to the surrogate correction ({})'.format(np.sum(importance.values), surrogate_correction)"
   ]
  },
  {
   "cell_type": "code",
   "execution_count": 10,
   "metadata": {},
   "outputs": [
    {
     "name": "stdout",
     "output_type": "stream",
     "text": [
      "Before: amplitude=1.00, decay=0.01, frequency=0.25, phase=-0.09\n",
      "After: amplitude=1.00, decay=0.00, frequency=0.18, phase=-0.04\n"
     ]
    },
    {
     "data": {
      "text/html": [
       "<div>\n",
       "<style scoped>\n",
       "    .dataframe tbody tr th:only-of-type {\n",
       "        vertical-align: middle;\n",
       "    }\n",
       "\n",
       "    .dataframe tbody tr th {\n",
       "        vertical-align: top;\n",
       "    }\n",
       "\n",
       "    .dataframe thead th {\n",
       "        text-align: right;\n",
       "    }\n",
       "</style>\n",
       "<table border=\"1\" class=\"dataframe\">\n",
       "  <thead>\n",
       "    <tr style=\"text-align: right;\">\n",
       "      <th></th>\n",
       "      <th>intercept</th>\n",
       "      <th>slope</th>\n",
       "      <th>quadratic</th>\n",
       "      <th>amplitude</th>\n",
       "      <th>decay</th>\n",
       "      <th>frequency</th>\n",
       "      <th>phase</th>\n",
       "    </tr>\n",
       "  </thead>\n",
       "  <tbody>\n",
       "    <tr>\n",
       "      <th>0</th>\n",
       "      <td>0</td>\n",
       "      <td>0</td>\n",
       "      <td>0</td>\n",
       "      <td>0.4</td>\n",
       "      <td>0.2</td>\n",
       "      <td>6.6</td>\n",
       "      <td>-5.2</td>\n",
       "    </tr>\n",
       "  </tbody>\n",
       "</table>\n",
       "</div>"
      ],
      "text/plain": [
       "   intercept  slope  quadratic  amplitude  decay  frequency  phase\n",
       "0          0      0          0        0.4    0.2        6.6   -5.2"
      ]
     },
     "metadata": {},
     "output_type": "display_data"
    },
    {
     "data": {
      "text/html": [
       "<div>\n",
       "<style scoped>\n",
       "    .dataframe tbody tr th:only-of-type {\n",
       "        vertical-align: middle;\n",
       "    }\n",
       "\n",
       "    .dataframe tbody tr th {\n",
       "        vertical-align: top;\n",
       "    }\n",
       "\n",
       "    .dataframe thead th {\n",
       "        text-align: right;\n",
       "    }\n",
       "</style>\n",
       "<table border=\"1\" class=\"dataframe\">\n",
       "  <thead>\n",
       "    <tr style=\"text-align: right;\">\n",
       "      <th></th>\n",
       "      <th>intercept</th>\n",
       "      <th>slope</th>\n",
       "      <th>quadratic</th>\n",
       "      <th>amplitude</th>\n",
       "      <th>decay</th>\n",
       "      <th>frequency</th>\n",
       "      <th>phase</th>\n",
       "    </tr>\n",
       "  </thead>\n",
       "  <tbody>\n",
       "    <tr>\n",
       "      <th>159</th>\n",
       "      <td>0.0</td>\n",
       "      <td>0.0</td>\n",
       "      <td>0.0</td>\n",
       "      <td>0.0</td>\n",
       "      <td>-1.9</td>\n",
       "      <td>41.7</td>\n",
       "      <td>-0.2</td>\n",
       "    </tr>\n",
       "  </tbody>\n",
       "</table>\n",
       "</div>"
      ],
      "text/plain": [
       "     intercept  slope  quadratic  amplitude  decay  frequency  phase\n",
       "159        0.0    0.0        0.0        0.0   -1.9       41.7   -0.2"
      ]
     },
     "metadata": {},
     "output_type": "display_data"
    }
   ],
   "source": [
    "def ar_to_sin(phi1, phi2, y1, y2):\n",
    "    # Formulas in Proposition 2\n",
    "\n",
    "    beta = -0.5*np.log(-phi2)\n",
    "    omega = np.arccos(0.5*phi1*np.exp(beta))\n",
    "    tgphi = (y1*np.exp(-beta)*np.cos(omega) - y2)/(y1*np.exp(-beta)*np.sin(omega))\n",
    "    alpha = y1*np.sqrt(1 + tgphi**2)\n",
    "    phi = np.arctan(tgphi)\n",
    "\n",
    "    return alpha, beta, omega, phi \n",
    "\n",
    "params_bf = explainer.first_base_model.params\n",
    "params_af = explainer.second_base_model.params\n",
    "ics_bf = explainer.first_base_model.ics\n",
    "ics_af = explainer.second_base_model.ics\n",
    "\n",
    "amplitude_bf, decay_bf, frequency_bf, phase_bf = ar_to_sin(phi1=params_bf['ar.L1'], \n",
    "                                                phi2=params_bf['ar.L2'], \n",
    "                                                y1=ics_bf[0], \n",
    "                                                y2=ics_bf[1])\n",
    "\n",
    "amplitude_af, decay_af, frequency_af, phase_af = ar_to_sin(phi1=params_af['ar.L1'],\n",
    "                                                phi2=params_af['ar.L2'],\n",
    "                                                y1=ics_af[0],\n",
    "                                                y2=ics_af[1])\n",
    "\n",
    "print('Before: amplitude={:.2f}, decay={:.2f}, frequency={:.2f}, phase={:.2f}'.format(amplitude_bf, decay_bf, frequency_bf, phase_bf))\n",
    "print('After: amplitude={:.2f}, decay={:.2f}, frequency={:.2f}, phase={:.2f}'.format(amplitude_af, decay_af, frequency_af, phase_af))\n",
    "\n",
    "theta_bf = {'amplitude': amplitude_bf, 'decay': decay_bf, 'frequency': frequency_bf, 'phase': phase_bf}\n",
    "theta_af = {'amplitude': amplitude_af, 'decay': decay_af, 'frequency': frequency_af, 'phase': phase_af}\n",
    "\n",
    "\n",
    "explanation, importance = pitsa.xai.importance.integrated_gradient(t, theta_bf, theta_af, model='KernelBasisFunction')\n",
    "display(100*explanation.round(3))\n",
    "display(100*importance.round(3))\n",
    "\n",
    "surrogate_correction = explainer.first_base_model_at_t_test[t] - explainer.second_base_model_at_t_test[t]\n",
    "assert np.allclose(np.sum(importance.values), surrogate_correction, atol=0.01), 'Sum of the importance ({}) is not equal to the surrogate correction ({})'.format(np.sum(importance.values), surrogate_correction)\n"
   ]
  },
  {
   "cell_type": "markdown",
   "metadata": {},
   "source": [
    "# Bottom"
   ]
  }
 ],
 "metadata": {
  "kernelspec": {
   "display_name": "pitsa_lite",
   "language": "python",
   "name": "python3"
  },
  "language_info": {
   "codemirror_mode": {
    "name": "ipython",
    "version": 3
   },
   "file_extension": ".py",
   "mimetype": "text/x-python",
   "name": "python",
   "nbconvert_exporter": "python",
   "pygments_lexer": "ipython3",
   "version": "3.12.2"
  }
 },
 "nbformat": 4,
 "nbformat_minor": 2
}
