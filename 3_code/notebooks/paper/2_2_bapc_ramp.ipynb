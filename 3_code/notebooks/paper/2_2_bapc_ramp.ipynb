{
 "cells": [
  {
   "cell_type": "markdown",
   "metadata": {},
   "source": [
    "<a id=\"top\"></a>\n",
    " <font size=\"5\">BAPC</font>\n",
    "> \n",
    "\n",
    "> * Prepared by Alfredo López\n",
    "> * alfredo.lopez@scch.at\n",
    "> \n",
    "<hr>\n",
    "<hr>"
   ]
  },
  {
   "cell_type": "markdown",
   "metadata": {},
   "source": [
    "# Import"
   ]
  },
  {
   "cell_type": "code",
   "execution_count": 1,
   "metadata": {},
   "outputs": [],
   "source": [
    "import os\n",
    "import numpy as np\n",
    "import pandas as pd\n",
    "import pitsa\n",
    "import matplotlib.pyplot as plt\n",
    "import seaborn as sns\n",
    "from IPython.display import display\n",
    "from sklearn.neighbors import KNeighborsRegressor\n",
    "from sklearn.linear_model import LinearRegression"
   ]
  },
  {
   "cell_type": "code",
   "execution_count": 13,
   "metadata": {},
   "outputs": [],
   "source": [
    "import pitsa.utils"
   ]
  },
  {
   "cell_type": "code",
   "execution_count": 12,
   "metadata": {},
   "outputs": [
    {
     "ename": "ModuleNotFoundError",
     "evalue": "No module named 'tsmule.sampling'",
     "output_type": "error",
     "traceback": [
      "\u001b[1;31m---------------------------------------------------------------------------\u001b[0m",
      "\u001b[1;31mModuleNotFoundError\u001b[0m                       Traceback (most recent call last)",
      "Cell \u001b[1;32mIn[12], line 1\u001b[0m\n\u001b[1;32m----> 1\u001b[0m \u001b[38;5;28;01mimport\u001b[39;00m \u001b[38;5;21;01mtsmule\u001b[39;00m\u001b[38;5;21;01m.\u001b[39;00m\u001b[38;5;21;01msampling\u001b[39;00m\n",
      "\u001b[1;31mModuleNotFoundError\u001b[0m: No module named 'tsmule.sampling'"
     ]
    }
   ],
   "source": [
    "import tsmule.sampling"
   ]
  },
  {
   "cell_type": "markdown",
   "metadata": {},
   "source": [
    "# Workflow"
   ]
  },
  {
   "cell_type": "markdown",
   "metadata": {},
   "source": [
    "\n",
    "- **Inputs**  \n",
    "    - **Data** A time series consisting of a piecewice linear curve\n",
    "    - **Base model** : linear function $f_{(a, b)}(t) = a + bt$ depending on a parameter $\\theta=(a, b)$, corresponding to intercept and slope\n",
    "    - **Correction model**: K-Neares-Neighboor (default) or LSTM  \n",
    "- **BAPC**\n",
    "- **Explainability**  \n",
    "    - **Explanation**: vector $\\Delta \\theta$.\n",
    "    - **Importance**: vector $I \\theta $"
   ]
  },
  {
   "cell_type": "markdown",
   "metadata": {},
   "source": [
    "# Input"
   ]
  },
  {
   "cell_type": "code",
   "execution_count": 2,
   "metadata": {},
   "outputs": [],
   "source": [
    "csv_file = '2_ramp'\n",
    "\n",
    "base_model_name = 'Sklearn-Model'\n",
    "#correction_model_name = 'KNN' # fast but less accurate forecast\n",
    "correction_model_name = 'LSTM' # slow but more accurate forecast\n",
    "\n",
    "# meta parameters\n",
    "forecast_lenght = 0 # forecast lenght\n",
    "correction_window = 48 # correction window size"
   ]
  },
  {
   "cell_type": "markdown",
   "metadata": {},
   "source": [
    "# Folders"
   ]
  },
  {
   "cell_type": "code",
   "execution_count": 3,
   "metadata": {},
   "outputs": [],
   "source": [
    "# Please enter the input data folder \n",
    "data_folder = '../../../2_data/processed/synthetic'\n",
    "\n",
    "# Please enter the output figure folder\n",
    "fig_base = '../../../4_results/figures'\n",
    "\n",
    "# save the figures ?\n",
    "save_fig = True\n",
    "\n",
    "# current convention\n",
    "notebook_name, _  = os.path.splitext(os.path.basename(globals()['__vsc_ipynb_file__']))\n",
    "fig_folder = os.path.join(fig_base, notebook_name)\n",
    "\n",
    "if save_fig and not os.path.exists(fig_folder):\n",
    "    print('Folder {} was created'.format(fig_folder))\n",
    "    os.mkdir(fig_folder)"
   ]
  },
  {
   "cell_type": "markdown",
   "metadata": {},
   "source": [
    "# Data"
   ]
  },
  {
   "cell_type": "code",
   "execution_count": 4,
   "metadata": {},
   "outputs": [
    {
     "name": "stdout",
     "output_type": "stream",
     "text": [
      "Figure ../../../4_results/figures\\2_2_bapc_ramp\\2_ramp_data.png was saved\n"
     ]
    },
    {
     "data": {
      "image/png": "[encoded data removed]",
      "text/plain": [
       "<Figure size 300x250 with 1 Axes>"
      ]
     },
     "metadata": {},
     "output_type": "display_data"
    }
   ],
   "source": [
    "# time series reading\n",
    "file_name = os.path.join(data_folder, csv_file + '.csv')\n",
    "df = pd.read_csv(file_name, index_col='t')\n",
    "df.reset_index(drop=True, inplace=True)\n",
    "\n",
    "# plot\n",
    "tast = 48\n",
    "t = df.index.values\n",
    "n_train = df.shape[0]\n",
    "\n",
    "with sns.plotting_context(\"talk\"):\n",
    "    \n",
    "    f, ax = plt.subplots(figsize=(3, 2.5))\n",
    "    ax.plot(df.index, df['y'], color='tab:blue', label=r'$y$')\n",
    "\n",
    "    xticks = np.array([0, tast-1, n_train-1])\n",
    "    ax.set_xticks(xticks, labels=xticks+1)\n",
    "    plt.locator_params(axis='y', nbins=3)\n",
    "    sns.despine()\n",
    "\n",
    "    xlim = ax.get_xlim() # to be reused later\n",
    "\n",
    "    if save_fig:\n",
    "        fig_name = os.path.join(fig_folder, '{}_data.png'.format(csv_file))\n",
    "        plt.savefig(fig_name, bbox_inches='tight', dpi=300)\n",
    "        print('Figure {} was saved'.format(fig_name))"
   ]
  },
  {
   "cell_type": "markdown",
   "metadata": {},
   "source": [
    "# Base model"
   ]
  },
  {
   "cell_type": "code",
   "execution_count": 5,
   "metadata": {},
   "outputs": [],
   "source": [
    "if base_model_name == 'Sklearn-Model':\n",
    "    model = LinearRegression(fit_intercept=True)\n",
    "    base_model = pitsa.models.regression.SKLearnModel(model=model)\n",
    "else:\n",
    "    error_msg = 'Model {} is not instantiated. Use this place to instantiate your new base model'.format(base_model_name)\n",
    "    raise ValueError(error_msg)"
   ]
  },
  {
   "cell_type": "markdown",
   "metadata": {},
   "source": [
    "# Correction model"
   ]
  },
  {
   "cell_type": "code",
   "execution_count": 6,
   "metadata": {},
   "outputs": [],
   "source": [
    "if correction_model_name == 'KNN':\n",
    "    model = KNeighborsRegressor(n_neighbors=1) #Set n_neighbors=1 for perfect fit\n",
    "    correction_model = pitsa.models.regression.SKLearnModel(model, name='1NN')\n",
    "elif correction_model_name == 'LSTM':\n",
    "    fit_args={'epochs':400, 'verbose':False}\n",
    "    ar_order = 12\n",
    "    SEED = 2022\n",
    "    correction_model = pitsa.models.timeseries.RNN(model=None, ar_order=ar_order, fit_args=fit_args, name='LSTM')\n",
    "    correction_model.initialize(lstm_units=16, SEED=SEED)"
   ]
  },
  {
   "cell_type": "markdown",
   "metadata": {},
   "source": [
    "# BAPC"
   ]
  },
  {
   "cell_type": "code",
   "execution_count": 7,
   "metadata": {},
   "outputs": [],
   "source": [
    "# intialize\n",
    "explainer = pitsa.xai.bapc.Explainer(\n",
    "base_model=base_model, \n",
    "correction_model=correction_model\n",
    ")\n",
    "\n",
    "# train data\n",
    "t = df['y'] .index.values\n",
    "y = df['y'] .values.flatten()\n",
    "\n",
    "# update\n",
    "explainer.update(t=t, y=y, correction_window=correction_window, fit_residual=True)\n",
    "\n",
    "# forecast\n",
    "if forecast_lenght > 0: \n",
    "    explainer.forecast(forecast_lenght=forecast_lenght)"
   ]
  },
  {
   "cell_type": "markdown",
   "metadata": {},
   "source": [
    "# Explainability"
   ]
  },
  {
   "cell_type": "code",
   "execution_count": 8,
   "metadata": {},
   "outputs": [
    {
     "name": "stdout",
     "output_type": "stream",
     "text": [
      "Figure was saved as ../../../4_results/figures\\2_2_bapc_ramp\\2_ramp_bapc.png\n"
     ]
    },
    {
     "data": {
      "image/png": "[encoded data removed]",
      "text/plain": [
       "<Figure size 300x250 with 1 Axes>"
      ]
     },
     "metadata": {},
     "output_type": "display_data"
    }
   ],
   "source": [
    "with sns.plotting_context(\"talk\"):\n",
    "\n",
    "    ax = explainer.plot(figsize=(3, 2.5)) \n",
    "    plt.locator_params(axis='x', nbins=3)\n",
    "    plt.locator_params(axis='y', nbins=3)\n",
    "    ax.set_xticks(xticks, labels=xticks+1)\n",
    "    ax.axvline(x=n_train - 1, color='gray', linestyle='--')\n",
    "    sns.despine()\n",
    "\n",
    "    # save the figure\n",
    "    if save_fig:\n",
    "        fig_name = os.path.join(fig_folder, '{}_bapc.png'.format(csv_file))\n",
    "        plt.savefig(fig_name, bbox_inches='tight', dpi=300)\n",
    "        print('Figure was saved as {}'.format(fig_name))"
   ]
  },
  {
   "cell_type": "code",
   "execution_count": 9,
   "metadata": {},
   "outputs": [
    {
     "data": {
      "text/html": [
       "<div>\n",
       "<style scoped>\n",
       "    .dataframe tbody tr th:only-of-type {\n",
       "        vertical-align: middle;\n",
       "    }\n",
       "\n",
       "    .dataframe tbody tr th {\n",
       "        vertical-align: top;\n",
       "    }\n",
       "\n",
       "    .dataframe thead th {\n",
       "        text-align: right;\n",
       "    }\n",
       "</style>\n",
       "<table border=\"1\" class=\"dataframe\">\n",
       "  <thead>\n",
       "    <tr style=\"text-align: right;\">\n",
       "      <th></th>\n",
       "      <th>intercept</th>\n",
       "      <th>slope</th>\n",
       "    </tr>\n",
       "  </thead>\n",
       "  <tbody>\n",
       "    <tr>\n",
       "      <th>95</th>\n",
       "      <td>-6.0</td>\n",
       "      <td>0.1</td>\n",
       "    </tr>\n",
       "  </tbody>\n",
       "</table>\n",
       "</div>"
      ],
      "text/plain": [
       "    intercept  slope\n",
       "95       -6.0    0.1"
      ]
     },
     "metadata": {},
     "output_type": "display_data"
    },
    {
     "data": {
      "text/html": [
       "<div>\n",
       "<style scoped>\n",
       "    .dataframe tbody tr th:only-of-type {\n",
       "        vertical-align: middle;\n",
       "    }\n",
       "\n",
       "    .dataframe tbody tr th {\n",
       "        vertical-align: top;\n",
       "    }\n",
       "\n",
       "    .dataframe thead th {\n",
       "        text-align: right;\n",
       "    }\n",
       "</style>\n",
       "<table border=\"1\" class=\"dataframe\">\n",
       "  <thead>\n",
       "    <tr style=\"text-align: right;\">\n",
       "      <th></th>\n",
       "      <th>intercept</th>\n",
       "      <th>slope</th>\n",
       "    </tr>\n",
       "  </thead>\n",
       "  <tbody>\n",
       "    <tr>\n",
       "      <th>95</th>\n",
       "      <td>-6.0</td>\n",
       "      <td>0.0</td>\n",
       "    </tr>\n",
       "  </tbody>\n",
       "</table>\n",
       "</div>"
      ],
      "text/plain": [
       "    intercept  slope\n",
       "95       -6.0    0.0"
      ]
     },
     "metadata": {},
     "output_type": "display_data"
    },
    {
     "data": {
      "text/html": [
       "<div>\n",
       "<style scoped>\n",
       "    .dataframe tbody tr th:only-of-type {\n",
       "        vertical-align: middle;\n",
       "    }\n",
       "\n",
       "    .dataframe tbody tr th {\n",
       "        vertical-align: top;\n",
       "    }\n",
       "\n",
       "    .dataframe thead th {\n",
       "        text-align: right;\n",
       "    }\n",
       "</style>\n",
       "<table border=\"1\" class=\"dataframe\">\n",
       "  <thead>\n",
       "    <tr style=\"text-align: right;\">\n",
       "      <th></th>\n",
       "      <th>intercept</th>\n",
       "      <th>slope</th>\n",
       "    </tr>\n",
       "  </thead>\n",
       "  <tbody>\n",
       "    <tr>\n",
       "      <th>95</th>\n",
       "      <td>-6.0</td>\n",
       "      <td>12.0</td>\n",
       "    </tr>\n",
       "  </tbody>\n",
       "</table>\n",
       "</div>"
      ],
      "text/plain": [
       "    intercept  slope\n",
       "95       -6.0   12.0"
      ]
     },
     "metadata": {},
     "output_type": "display_data"
    }
   ],
   "source": [
    "# integrated gradient at t\n",
    "t = n_train - 1\n",
    "explanation, importance = explainer.explain(t=t)\n",
    "display(explanation.round(1))\n",
    "display(explanation.round(0))\n",
    "display(importance.round(0))\n",
    "\n",
    "surrogate_correction_at_t_test = np.array(explainer.first_base_model_at_t_test)[t] - np.array(explainer.second_base_model_at_t_test)[t]\n",
    "tolerance = 1e-5\n",
    "assert np.all(np.isclose(importance.sum(axis=1), surrogate_correction_at_t_test, atol=tolerance)), 'Sum of the importance is not equal to the total within the tolerance'"
   ]
  },
  {
   "cell_type": "markdown",
   "metadata": {},
   "source": [
    "# LIME"
   ]
  },
  {
   "cell_type": "code",
   "execution_count": 10,
   "metadata": {},
   "outputs": [
    {
     "name": "stdout",
     "output_type": "stream",
     "text": [
      "win_length: 3\n",
      "partitions: 4\n",
      "n_samples: 32\n"
     ]
    },
    {
     "ename": "AttributeError",
     "evalue": "module 'tsmule' has no attribute 'sampling'",
     "output_type": "error",
     "traceback": [
      "\u001b[1;31m---------------------------------------------------------------------------\u001b[0m",
      "\u001b[1;31mAttributeError\u001b[0m                            Traceback (most recent call last)",
      "Cell \u001b[1;32mIn[10], line 16\u001b[0m\n\u001b[0;32m     13\u001b[0m \u001b[38;5;28mprint\u001b[39m(\u001b[38;5;124m'\u001b[39m\u001b[38;5;124mn_samples:\u001b[39m\u001b[38;5;124m'\u001b[39m, n_samples)\n\u001b[0;32m     15\u001b[0m t \u001b[38;5;241m=\u001b[39m \u001b[38;5;241m56\u001b[39m\n\u001b[1;32m---> 16\u001b[0m xcoefs \u001b[38;5;241m=\u001b[39m explainer\u001b[38;5;241m.\u001b[39mexplain(t\u001b[38;5;241m=\u001b[39mt, method\u001b[38;5;241m=\u001b[39m\u001b[38;5;124m'\u001b[39m\u001b[38;5;124mlime\u001b[39m\u001b[38;5;124m'\u001b[39m, n_samples\u001b[38;5;241m=\u001b[39mn_samples, win_length\u001b[38;5;241m=\u001b[39mwin_length, partitions\u001b[38;5;241m=\u001b[39mpartitions)\n\u001b[0;32m     18\u001b[0m results \u001b[38;5;241m=\u001b[39m pd\u001b[38;5;241m.\u001b[39mSeries(np\u001b[38;5;241m.\u001b[39mnan, index\u001b[38;5;241m=\u001b[39mdf\u001b[38;5;241m.\u001b[39mindex)\n\u001b[0;32m     19\u001b[0m results[t\u001b[38;5;241m-\u001b[39mar_order:t] \u001b[38;5;241m=\u001b[39m xcoefs\u001b[38;5;241m.\u001b[39mflatten()\n",
      "File \u001b[1;32mc:\\users\\lopez\\onedrive - software competence center hagenberg gmbh\\projects\\pitsa\\3_code\\pitsa\\src\\pitsa\\xai\\bapc.py:416\u001b[0m, in \u001b[0;36mExplainer.explain\u001b[1;34m(self, t, method, **kwargs)\u001b[0m\n\u001b[0;32m    414\u001b[0m     ar_order \u001b[38;5;241m=\u001b[39m \u001b[38;5;28mself\u001b[39m\u001b[38;5;241m.\u001b[39mcorrection_model\u001b[38;5;241m.\u001b[39mar_order\n\u001b[0;32m    415\u001b[0m     sample \u001b[38;5;241m=\u001b[39m np\u001b[38;5;241m.\u001b[39mreshape(\u001b[38;5;28mself\u001b[39m\u001b[38;5;241m.\u001b[39my[k\u001b[38;5;241m-\u001b[39mar_order:k], (\u001b[38;5;241m-\u001b[39m\u001b[38;5;241m1\u001b[39m,\u001b[38;5;241m1\u001b[39m))\n\u001b[1;32m--> 416\u001b[0m     xcoef \u001b[38;5;241m=\u001b[39m pitsa\u001b[38;5;241m.\u001b[39mxai\u001b[38;5;241m.\u001b[39mimportance\u001b[38;5;241m.\u001b[39mexplain_lime(sample, predict_fn, \u001b[38;5;241m*\u001b[39m\u001b[38;5;241m*\u001b[39mkwargs)\n\u001b[0;32m    417\u001b[0m     xcoefs\u001b[38;5;241m.\u001b[39mappend(xcoef)\n\u001b[0;32m    418\u001b[0m xcoefs \u001b[38;5;241m=\u001b[39m np\u001b[38;5;241m.\u001b[39mconcatenate(xcoefs, axis\u001b[38;5;241m=\u001b[39m\u001b[38;5;241m1\u001b[39m)\u001b[38;5;241m.\u001b[39mT\n",
      "File \u001b[1;32mc:\\users\\lopez\\onedrive - software competence center hagenberg gmbh\\projects\\pitsa\\3_code\\pitsa\\src\\pitsa\\xai\\importance.py:561\u001b[0m, in \u001b[0;36mexplain_lime\u001b[1;34m(sample, predict_fn, warning, seed, **kwargs)\u001b[0m\n\u001b[0;32m    558\u001b[0m win_length \u001b[38;5;241m=\u001b[39m kwargs\u001b[38;5;241m.\u001b[39mget(\u001b[38;5;124m'\u001b[39m\u001b[38;5;124mwin_length\u001b[39m\u001b[38;5;124m'\u001b[39m, \u001b[38;5;241m3\u001b[39m)\n\u001b[0;32m    560\u001b[0m \u001b[38;5;66;03m# Initialize the segmenter and explainer for LIME\u001b[39;00m\n\u001b[1;32m--> 561\u001b[0m segmenter \u001b[38;5;241m=\u001b[39m tsmule\u001b[38;5;241m.\u001b[39msampling\u001b[38;5;241m.\u001b[39msegment\u001b[38;5;241m.\u001b[39mWindowSegmentation(partitions\u001b[38;5;241m=\u001b[39mpartitions, win_length\u001b[38;5;241m=\u001b[39mwin_length)\n\u001b[0;32m    562\u001b[0m explainer \u001b[38;5;241m=\u001b[39m tsmule\u001b[38;5;241m.\u001b[39mxai\u001b[38;5;241m.\u001b[39mlime\u001b[38;5;241m.\u001b[39mLimeTS(n_samples\u001b[38;5;241m=\u001b[39mn_samples, replace_method\u001b[38;5;241m=\u001b[39m\u001b[38;5;124m'\u001b[39m\u001b[38;5;124mglobal_mean\u001b[39m\u001b[38;5;124m'\u001b[39m, segmenter\u001b[38;5;241m=\u001b[39msegmenter)\n\u001b[0;32m    564\u001b[0m \u001b[38;5;28;01mtry\u001b[39;00m:\n\u001b[0;32m    565\u001b[0m     \u001b[38;5;66;03m# Compute the LIME explanation\u001b[39;00m\n",
      "\u001b[1;31mAttributeError\u001b[0m: module 'tsmule' has no attribute 'sampling'"
     ]
    }
   ],
   "source": [
    "if correction_model_name == 'LSTM':\n",
    "\n",
    "    ar_order = correction_model.ar_order\n",
    "    assert ar_order > 0, 'ar_order must be greater than 0 for LIME'\n",
    "    assert n_train % ar_order == 0, 'n_train must be divisible by ar_order for LIME'\n",
    "\n",
    "    win_length = 3\n",
    "    partitions = np.ceil(ar_order / win_length).astype(int)\n",
    "    n_samples = 2 * (2 ** partitions) \n",
    "\n",
    "    print('win_length:', win_length)\n",
    "    print('partitions:', partitions)\n",
    "    print('n_samples:', n_samples)\n",
    "\n",
    "    t = 56\n",
    "    xcoefs = explainer.explain(t=t, method='lime', n_samples=n_samples, win_length=win_length, partitions=partitions)\n",
    "\n",
    "    results = pd.Series(np.nan, index=df.index)\n",
    "    results[t-ar_order:t] = xcoefs.flatten()\n",
    "\n",
    "    with sns.plotting_context(\"talk\"):\n",
    "\n",
    "        f, ax = plt.subplots(figsize=(3.5, 2.5))\n",
    "        ax = plt.gca()\n",
    "        ax.plot(results.index, results, color='tab:blue', label='sum')   \n",
    "\n",
    "        rticks = [0, 48, 96]\n",
    "        ax.set_xlabel('time $t$')\n",
    "        ax.set_xticks(rticks, labels=rticks)\n",
    "        ax.set_xlim(xlim)\n",
    "        plt.locator_params(axis='y', nbins=3)\n",
    "        ax.set_ylabel('')\n",
    "        sns.despine()\n",
    "        \n",
    "        fig_name = os.path.join(fig_folder, '{}_lime.png'.format(csv_file))\n",
    "        plt.savefig(fig_name, bbox_inches='tight', dpi=300)\n",
    "        print('Figure {} was saved'.format(fig_name))"
   ]
  },
  {
   "cell_type": "markdown",
   "metadata": {},
   "source": [
    "# Bottom"
   ]
  }
 ],
 "metadata": {
  "kernelspec": {
   "display_name": "pitsa",
   "language": "python",
   "name": "python3"
  },
  "language_info": {
   "codemirror_mode": {
    "name": "ipython",
    "version": 3
   },
   "file_extension": ".py",
   "mimetype": "text/x-python",
   "name": "python",
   "nbconvert_exporter": "python",
   "pygments_lexer": "ipython3",
   "version": "3.11.11"
  }
 },
 "nbformat": 4,
 "nbformat_minor": 2
}
