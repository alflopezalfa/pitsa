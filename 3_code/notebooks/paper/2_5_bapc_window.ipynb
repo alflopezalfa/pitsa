{
 "cells": [
  {
   "cell_type": "markdown",
   "metadata": {},
   "source": [
    "<a id=\"top\"></a>\n",
    " <font size=\"5\">BAPC</font>\n",
    "> \n",
    "\n",
    "> * Prepared by Alfredo López\n",
    "> * alfredo.lopez@scch.at\n",
    "> \n",
    "<hr>\n",
    "<hr>"
   ]
  },
  {
   "cell_type": "markdown",
   "metadata": {},
   "source": [
    "# Import"
   ]
  },
  {
   "cell_type": "code",
   "execution_count": 1,
   "metadata": {},
   "outputs": [],
   "source": [
    "import os\n",
    "import numpy as np\n",
    "import pandas as pd\n",
    "import pitsa_lite as pitsa\n",
    "import matplotlib.pyplot as plt\n",
    "import seaborn as sns\n",
    "from sklearn.neighbors import KNeighborsRegressor\n",
    "from sklearn.linear_model import LinearRegression\n",
    "from sklearn.dummy import DummyRegressor"
   ]
  },
  {
   "cell_type": "markdown",
   "metadata": {},
   "source": [
    "# Input"
   ]
  },
  {
   "cell_type": "code",
   "execution_count": 9,
   "metadata": {},
   "outputs": [],
   "source": [
    "csv_file = '1_step'\n",
    "#csv_file = '2_ramp'\n",
    "\n",
    "base_model_name = 'Sklearn-Model'\n",
    "#correction_model_name = 'KNN' # fast but less accurate forecast. Set return_lime = False in this case\n",
    "correction_model_name = 'LSTM' # slow but more accurate forecast\n",
    "\n",
    "# meta parameters\n",
    "forecast_lenght = 0 # forecast lenght"
   ]
  },
  {
   "cell_type": "markdown",
   "metadata": {},
   "source": [
    "# Folders"
   ]
  },
  {
   "cell_type": "code",
   "execution_count": 10,
   "metadata": {},
   "outputs": [],
   "source": [
    "# Please enter the input data folder \n",
    "data_folder = '../../../2_data/processed/synthetic'\n",
    "\n",
    "# Please enter the output figure folder\n",
    "fig_base = '../../../4_results/figures'\n",
    "\n",
    "# save the figures ?\n",
    "save_fig = True\n",
    "\n",
    "# current convention\n",
    "notebook_name, _  = os.path.splitext(os.path.basename(globals()['__vsc_ipynb_file__']))\n",
    "fig_folder = os.path.join(fig_base, notebook_name)\n",
    "\n",
    "if save_fig and not os.path.exists(fig_folder):\n",
    "    print('Folder {} was created'.format(fig_folder))\n",
    "    os.mkdir(fig_folder)"
   ]
  },
  {
   "cell_type": "markdown",
   "metadata": {},
   "source": [
    "# Data"
   ]
  },
  {
   "cell_type": "code",
   "execution_count": 11,
   "metadata": {},
   "outputs": [
    {
     "name": "stdout",
     "output_type": "stream",
     "text": [
      "Figure ../../../4_results/figures\\2_5_bapc_window\\1_step_win_data.png was saved\n"
     ]
    },
    {
     "data": {
      "image/png": "[encoded data removed]",
      "text/plain": [
       "<Figure size 300x250 with 1 Axes>"
      ]
     },
     "metadata": {},
     "output_type": "display_data"
    }
   ],
   "source": [
    "# time series reading\n",
    "file_name = os.path.join(data_folder, csv_file + '.csv')\n",
    "df = pd.read_csv(file_name, index_col='t')\n",
    "df.reset_index(drop=True, inplace=True)\n",
    "\n",
    "# plot\n",
    "tast = 48\n",
    "t = df.index.values\n",
    "n_train = df.shape[0]\n",
    "\n",
    "\n",
    "with sns.plotting_context(\"talk\"):\n",
    "\n",
    "    f, ax = plt.subplots(figsize=(3, 2.5))\n",
    "        \n",
    "    if csv_file == '1_step':\n",
    "        ax.plot(t[:tast], df['y'].loc[:tast-1], color='tab:blue')\n",
    "        ax.plot(t[tast:], df['y'].loc[tast:], color='tab:blue', label=r'$y$')\n",
    "        ax.scatter(tast, df['y'].loc[tast], color='tab:blue', s=100)\n",
    "    elif csv_file == '2_ramp':\n",
    "        ax.plot(t, df['y'], color='tab:blue', label=r'$y$')\n",
    "\n",
    "    xticks = np.array([0, tast-1, n_train-1])\n",
    "    ax.set_xticks(xticks, labels=xticks+1)\n",
    "    plt.locator_params(axis='y', nbins=3)\n",
    "    ax.set_xlabel(r'time $t$')\n",
    "    ax.set_ylabel('')\n",
    "    sns.despine()\n",
    "\n",
    "    xlim = ax.get_xlim() # to be reused later\n",
    "\n",
    "    if save_fig:\n",
    "        fig_name = os.path.join(fig_folder, '{}_win_data.png'.format(csv_file))\n",
    "        plt.savefig(fig_name, bbox_inches='tight', dpi=300)\n",
    "        print('Figure {} was saved'.format(fig_name))"
   ]
  },
  {
   "cell_type": "markdown",
   "metadata": {},
   "source": [
    "# Base model"
   ]
  },
  {
   "cell_type": "code",
   "execution_count": 12,
   "metadata": {},
   "outputs": [],
   "source": [
    "if base_model_name == 'Sklearn-Model':\n",
    "    if csv_file == '1_step':\n",
    "        model = DummyRegressor(strategy=\"mean\")\n",
    "        base_model = pitsa.models.regression.SKLearnModel(model=model)\n",
    "        cols = ['intercept']\n",
    "    elif csv_file == '2_ramp':\n",
    "        model = LinearRegression(fit_intercept=True)\n",
    "        base_model = pitsa.models.regression.SKLearnModel(model=model)\n",
    "        cols = ['intercept', 'slope']\n",
    "    else:\n",
    "        raise ValueError('Model {} is not included'.format(csv_file))\n",
    "else:\n",
    "    error_msg = 'Model {} is not instantiated. Use this place to instantiate your new base model'.format(base_model_name)\n",
    "    raise ValueError(error_msg)"
   ]
  },
  {
   "cell_type": "markdown",
   "metadata": {},
   "source": [
    "# Correction model"
   ]
  },
  {
   "cell_type": "code",
   "execution_count": 13,
   "metadata": {},
   "outputs": [],
   "source": [
    "if correction_model_name == 'KNN':\n",
    "    model = KNeighborsRegressor(n_neighbors=1) #Set n_neighbors=1 for perfect fit\n",
    "    correction_model = pitsa.models.regression.SKLearnModel(model, name='1NN')\n",
    "    correction_model.ar_order = 0\n",
    "elif correction_model_name == 'LSTM':\n",
    "    fit_args={'epochs':400, 'verbose':0}\n",
    "    ar_order = 12\n",
    "    SEED = 2022\n",
    "    correction_model = pitsa.models.timeseries.RNN(model=None, ar_order=ar_order, fit_args=fit_args, name='LSTM')\n",
    "    correction_model.initialize(lstm_units=16, SEED=SEED)"
   ]
  },
  {
   "cell_type": "markdown",
   "metadata": {},
   "source": [
    "# BAPC"
   ]
  },
  {
   "cell_type": "code",
   "execution_count": 14,
   "metadata": {},
   "outputs": [
    {
     "name": "stdout",
     "output_type": "stream",
     "text": [
      "data: y - time_step:  95 - correction_window: 84\r"
     ]
    }
   ],
   "source": [
    "parameters, explainers = pitsa.experimenter.run.run_sbapc(df=df,\n",
    "                                                          base_model=base_model, \n",
    "                                                          correction_model=correction_model, \n",
    "                                                          n_train=n_train,\n",
    "                                                          forecast_lenght=forecast_lenght)"
   ]
  },
  {
   "cell_type": "code",
   "execution_count": 15,
   "metadata": {},
   "outputs": [
    {
     "name": "stdout",
     "output_type": "stream",
     "text": [
      "Figure ../../../4_results/figures\\2_5_bapc_window\\1_step_win_bapc.png was saved\n"
     ]
    },
    {
     "data": {
      "image/png": "[encoded data removed]",
      "text/plain": [
       "<Figure size 350x250 with 1 Axes>"
      ]
     },
     "metadata": {},
     "output_type": "display_data"
    }
   ],
   "source": [
    "look_backs = list(explainers['y'][n_train-1].keys())\n",
    "data = []\n",
    "t = df.index[-1]\n",
    "\n",
    "for look_back in look_backs:\n",
    "\n",
    "    components = explainers['y'][n_train-1][look_back]\n",
    "    explanation, importance = pitsa.xai.importance.explain_ig(components, t)\n",
    "    importance['r'] = look_back\n",
    "    data.append(importance[['r']+cols])\n",
    "\n",
    "results = pd.concat(data)\n",
    "results['sum'] = results[cols].sum(axis=1)\n",
    "\n",
    "with sns.plotting_context(\"talk\"):\n",
    "    \n",
    "    f, ax = plt.subplots(figsize=(3.5, 2.5))\n",
    "    ax.plot(results['r'], results['sum'], color='tab:blue', label='sum')\n",
    "\n",
    "    rticks = [0, 48, 96]\n",
    "    ropt = results.set_index('r')['sum'].argmax()\n",
    "    \n",
    "    ax.set_xlabel(r'window $r$')\n",
    "    ax.set_xticks(rticks, labels=rticks)\n",
    "    ax.set_xlim(xlim)\n",
    "    \n",
    "    ax.scatter(results['r'].iloc[ropt], results['sum'].iloc[ropt], color='tab:red', zorder=5)\n",
    "    \n",
    "    ax.invert_xaxis()\n",
    "    ax.set_ylabel('')\n",
    "    sns.despine()\n",
    "\n",
    "    if csv_file == '1_step':\n",
    "        yticks = [0.0, 0.25, 0.5]\n",
    "        ax.set_yticks(yticks, labels=['{:.2f}'.format(y) for y in yticks])\n",
    "    elif csv_file == '2_ramp':\n",
    "        yticks = [0, 5, 7.5, 10]\n",
    "        ax.set_yticks(yticks, labels=yticks)\n",
    "        ax.yaxis.get_major_ticks()[2].set_visible(False)\n",
    "\n",
    "    if save_fig:\n",
    "        fig_name = os.path.join(fig_folder, '{}_win_bapc.png'.format(csv_file))\n",
    "        plt.savefig(fig_name, bbox_inches='tight', dpi=300)\n",
    "        print('Figure {} was saved'.format(fig_name))"
   ]
  },
  {
   "cell_type": "markdown",
   "metadata": {},
   "source": [
    "# Bottom"
   ]
  }
 ],
 "metadata": {
  "kernelspec": {
   "display_name": "pitsa_lite",
   "language": "python",
   "name": "python3"
  },
  "language_info": {
   "codemirror_mode": {
    "name": "ipython",
    "version": 3
   },
   "file_extension": ".py",
   "mimetype": "text/x-python",
   "name": "python",
   "nbconvert_exporter": "python",
   "pygments_lexer": "ipython3",
   "version": "3.12.2"
  }
 },
 "nbformat": 4,
 "nbformat_minor": 2
}
