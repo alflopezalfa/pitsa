{
 "cells": [
  {
   "cell_type": "markdown",
   "metadata": {},
   "source": [
    "<a id=\"top\"></a>\n",
    " <font size=\"5\">BAPC</font>\n",
    "> \n",
    "\n",
    "> * Prepared by Alfredo López\n",
    "> * alfredo.lopez@scch.at\n",
    "> \n",
    "<hr>\n",
    "<hr>"
   ]
  },
  {
   "cell_type": "markdown",
   "metadata": {},
   "source": [
    "# Import"
   ]
  },
  {
   "cell_type": "code",
   "execution_count": 1,
   "metadata": {},
   "outputs": [],
   "source": [
    "import os\n",
    "import numpy as np\n",
    "import pandas as pd\n",
    "import pitsa_lite as pitsa\n",
    "import matplotlib.pyplot as plt\n",
    "import seaborn as sns\n",
    "import matplotlib.colors as mcolors\n",
    "import matplotlib\n",
    "from sklearn.neighbors import KNeighborsRegressor\n",
    "from sklearn.linear_model import LinearRegression\n",
    "from sklearn.dummy import DummyRegressor"
   ]
  },
  {
   "cell_type": "markdown",
   "metadata": {},
   "source": [
    "# Input"
   ]
  },
  {
   "cell_type": "code",
   "execution_count": 2,
   "metadata": {},
   "outputs": [],
   "source": [
    "csv_file = '5_step_large'\n",
    "#csv_file = '6_ramp_large'\n",
    "\n",
    "base_model_name = 'Sklearn-Model'\n",
    "\n",
    "#correction_model_name = 'KNN' # fast but less accurate forecast\n",
    "correction_model_name = 'LSTM' # slow but more accurate forecast\n",
    "\n",
    "# meta parameters\n",
    "n_train = 96 # number of training samples, ie. the sliding window size\n",
    "forecast_lenght = 0 # forecast lenght\n",
    "correction_window = 48 # correction window size"
   ]
  },
  {
   "cell_type": "markdown",
   "metadata": {},
   "source": [
    "# Folders"
   ]
  },
  {
   "cell_type": "code",
   "execution_count": 3,
   "metadata": {},
   "outputs": [],
   "source": [
    "# Please enter the input data folder \n",
    "data_folder = '../../../2_data/processed/synthetic'\n",
    "\n",
    "# Please enter the output figure folder\n",
    "fig_base = '../../../4_results/figures'\n",
    "\n",
    "# save the figures ?\n",
    "save_fig = True\n",
    "\n",
    "# current convention\n",
    "notebook_name, _  = os.path.splitext(os.path.basename(globals()['__vsc_ipynb_file__']))\n",
    "fig_folder = os.path.join(fig_base, notebook_name)\n",
    "\n",
    "if save_fig and not os.path.exists(fig_folder):\n",
    "    print('Folder {} was created'.format(fig_folder))\n",
    "    os.mkdir(fig_folder)"
   ]
  },
  {
   "cell_type": "markdown",
   "metadata": {},
   "source": [
    "# Data"
   ]
  },
  {
   "cell_type": "code",
   "execution_count": 4,
   "metadata": {},
   "outputs": [
    {
     "name": "stdout",
     "output_type": "stream",
     "text": [
      "Figure ../../../4_results/figures\\2_6_bapc_sequential\\5_step_large_seq_data.png was saved\n"
     ]
    },
    {
     "data": {
      "image/png": "[encoded data removed]",
      "text/plain": [
       "<Figure size 400x250 with 1 Axes>"
      ]
     },
     "metadata": {},
     "output_type": "display_data"
    }
   ],
   "source": [
    "# time series reading\n",
    "file_name = os.path.join(data_folder, csv_file + '.csv')\n",
    "df = pd.read_csv(file_name, index_col='t')\n",
    "df.reset_index(drop=True, inplace=True)\n",
    "\n",
    "# plot\n",
    "tast = 120\n",
    "t = df.index.values\n",
    "m_train = df.shape[0]\n",
    "\n",
    "with sns.plotting_context(\"talk\"):\n",
    "\n",
    "    f, ax = plt.subplots(figsize=(4, 2.5))\n",
    "    \n",
    "    if csv_file == '5_step_large':\n",
    "        ax.plot(t[:tast], df['y'].loc[:tast-1], color='tab:blue')\n",
    "        ax.plot(t[tast:], df['y'].loc[tast:], color='tab:blue', label=r'$y$')\n",
    "        ax.scatter(tast, df['y'].loc[tast], color='tab:blue', s=100)\n",
    "    else:\n",
    "        ax.plot(t, df['y'], color='tab:blue', label=r'$y$')\n",
    "\n",
    "    xticks = np.array([0, tast-1, m_train-1])\n",
    "    ax.set_xticks(xticks, labels=xticks+1)\n",
    "    plt.locator_params(axis='y', nbins=3)\n",
    "    ax.set_xlabel(r'time $s$')\n",
    "    ax.set_ylabel('')\n",
    "\n",
    "    x0 = 72\n",
    "    x1 = tast - 1\n",
    "    x2 = x1 + correction_window - 1\n",
    "\n",
    "    ht = df['y'].min() + 0.8*(df['y'].max()-df['y'].min())\n",
    "    ax.annotate(\"\", xy=(x0, ht), xytext=(x2, ht), textcoords=ax.transData, arrowprops=dict(arrowstyle='|-|',mutation_scale=10, shrinkA=0, shrinkB=0))\n",
    "    bbox=dict(fc=\"white\", ec=\"none\", boxstyle=\"square,pad=0.1\")\n",
    "    ax.text(x0 + (x2-x0)/2, ht, \"n={}\".format(n_train), ha=\"center\", va=\"center\", bbox=bbox, fontsize='x-small');\n",
    "\n",
    "    ht = df['y'].min() + 0.6*(df['y'].max()-df['y'].min()) \n",
    "    ax.annotate(\"\", xy=(x1, ht), xytext=(x2, ht), textcoords=ax.transData, arrowprops=dict(arrowstyle='|-|',mutation_scale=10, shrinkA=0, shrinkB=0))\n",
    "    bbox=dict(fc=\"white\", ec=\"none\", boxstyle=\"square,pad=0.1\")\n",
    "    ax.text(x1 + (x2-x1)/2, ht, \"r={}\".format(correction_window), ha=\"center\", va=\"center\", bbox=bbox, fontsize='x-small');\n",
    "\n",
    "    sns.despine()\n",
    "\n",
    "    xlim = ax.get_xlim()\n",
    "\n",
    "    if save_fig:\n",
    "        fig_name = os.path.join(fig_folder,  '{}_seq_data.png'.format(csv_file))\n",
    "        plt.savefig(fig_name, bbox_inches='tight', dpi=300)\n",
    "        print('Figure {} was saved'.format(fig_name))"
   ]
  },
  {
   "cell_type": "markdown",
   "metadata": {},
   "source": [
    "# Base model"
   ]
  },
  {
   "cell_type": "code",
   "execution_count": 5,
   "metadata": {},
   "outputs": [],
   "source": [
    "if base_model_name == 'Sklearn-Model':\n",
    "    if csv_file == '5_step_large':\n",
    "        model = DummyRegressor(strategy=\"mean\")\n",
    "        base_model = pitsa.models.regression.SKLearnModel(model=model)\n",
    "    elif csv_file == '6_ramp_large':\n",
    "        model = LinearRegression(fit_intercept=True)\n",
    "        base_model = pitsa.models.regression.SKLearnModel(model=model)\n",
    "    else:\n",
    "        raise ValueError('Model {} is not included'.format(csv_file))\n",
    "\n",
    "else:\n",
    "    error_msg = 'Model {} is not instantiated. Use this place to instantiate your new base model'.format(base_model_name)\n",
    "    raise ValueError(error_msg)"
   ]
  },
  {
   "cell_type": "markdown",
   "metadata": {},
   "source": [
    "# Correction model"
   ]
  },
  {
   "cell_type": "code",
   "execution_count": 6,
   "metadata": {},
   "outputs": [],
   "source": [
    "if correction_model_name == 'KNN':\n",
    "    model = KNeighborsRegressor(n_neighbors=1) #Set n_neighbors=1 for perfect fit\n",
    "    correction_model = pitsa.models.regression.SKLearnModel(model, name='1NN')\n",
    "    correction_model.ar_order = 0\n",
    "elif correction_model_name == 'LSTM':\n",
    "    fit_args={'epochs':400, 'verbose':0}\n",
    "    ar_order = 12\n",
    "    SEED = 2022\n",
    "    correction_model = pitsa.models.timeseries.RNN(model=None, ar_order=ar_order, fit_args=fit_args, name='LSTM')\n",
    "    correction_model.initialize(lstm_units=16, SEED=SEED)"
   ]
  },
  {
   "cell_type": "markdown",
   "metadata": {},
   "source": [
    "# Sequential BAPC"
   ]
  },
  {
   "cell_type": "code",
   "execution_count": 7,
   "metadata": {},
   "outputs": [
    {
     "name": "stdout",
     "output_type": "stream",
     "text": [
      "data: y - time_step:  239 - correction_window: 48\r"
     ]
    }
   ],
   "source": [
    "parameters, explainers = pitsa.experimenter.run.run_sbapc(df=df,\n",
    "                                                          base_model=base_model, \n",
    "                                                          correction_model=correction_model, \n",
    "                                                          correction_windows=correction_window, \n",
    "                                                          n_train=n_train,\n",
    "                                                          forecast_lenght=forecast_lenght)"
   ]
  },
  {
   "cell_type": "markdown",
   "metadata": {},
   "source": [
    "# Heatmaps"
   ]
  },
  {
   "cell_type": "code",
   "execution_count": 8,
   "metadata": {},
   "outputs": [],
   "source": [
    "from mpl_toolkits.axes_grid1.axes_divider import make_axes_locatable\n",
    "\n",
    "def heatmaps(coef, levels):\n",
    "\n",
    "    # re-indexing \n",
    "    coef = coef.rename(columns={k:k+1 for k in coef.columns})\n",
    "    coef.rename(index={k:k+1 for k in coef.index}, inplace=True)\n",
    "    coef = coef.T\n",
    "    \n",
    "    # subsetting\n",
    "    coef = coef.loc[:, n_train:]\n",
    "\n",
    "    v = coef.abs().max().max()\n",
    "    vmin = -v\n",
    "    vmax = v\n",
    " \n",
    "    cmap = matplotlib.colormaps['PiYG_r']\n",
    "    norm = mcolors.TwoSlopeNorm(vmin=vmin, vcenter=0, vmax=vmax)\n",
    "\n",
    "\n",
    "    # heatmap\n",
    "    f, ax = plt.subplots(figsize=(5, 5))\n",
    "    X, Y = np.meshgrid(coef.columns, coef.index)\n",
    "    Z = coef.values\n",
    "    cs = ax.contourf(X, Y, Z, cmap=cmap, norm=norm, levels=levels)\n",
    "    ax.contour(cs, colors='k', linewidths=0.5)\n",
    "    ax.grid(c='k', ls='-', alpha=0.3)\n",
    "\n",
    "    # colorbar\n",
    "    ax_divider = make_axes_locatable(ax)\n",
    "    cax = ax_divider.append_axes(\"top\", size=\"7%\", pad=\"2%\")\n",
    "    cb2 = f.colorbar(cs, cax=cax, orientation=\"horizontal\")\n",
    "    cax.xaxis.set_ticks_position(\"top\")\n",
    "    \n",
    "    x0 = 72\n",
    "    x1 = x0 + correction_window\n",
    "    x2 = x1 + correction_window - 1\n",
    "    ticks = np.array([x1, x2])\n",
    "    ax.set_xticks(ticks+1, labels=ticks+1);\n",
    "    ax.set_yticks(ticks+1, labels=ticks+1);\n",
    "\n",
    "    ax.set_xlabel('s')\n",
    "    ax.set_ylabel('t')\n",
    "    sns.despine()\n",
    "   \n",
    "\n",
    "    return f, ax\n",
    "    "
   ]
  },
  {
   "cell_type": "code",
   "execution_count": 9,
   "metadata": {},
   "outputs": [
    {
     "data": {
      "image/png": "[encoded data removed]",
      "text/plain": [
       "<Figure size 500x500 with 2 Axes>"
      ]
     },
     "metadata": {},
     "output_type": "display_data"
    }
   ],
   "source": [
    "bapc_coef = pd.DataFrame(np.nan, index=df.index.values, columns=df.index.values)\n",
    "bapc_coef.index.name = 's'\n",
    "bapc_coef.columns.name = 't'\n",
    "offset = 0\n",
    "\n",
    "for s, val in explainers['y'].items():\n",
    "    c = val[correction_window]\n",
    "    xcoefs = np.array(c['first_base_model_at_t']) - np.array(c['second_base_model_at_t'])\n",
    "    t = np.arange(n_train) + offset\n",
    "    bapc_coef.loc[s, t] = xcoefs\n",
    "    offset = offset+1\n",
    "\n",
    "with sns.plotting_context(\"talk\"):\n",
    "\n",
    "    f, ax = heatmaps(bapc_coef, levels=10)\n",
    "\n",
    "    if save_fig:\n",
    "        f.savefig(os.path.join(fig_folder, '{}_bapc_heatmap.png'.format(csv_file)), bbox_inches='tight')"
   ]
  },
  {
   "cell_type": "markdown",
   "metadata": {},
   "source": [
    "# Bottom"
   ]
  }
 ],
 "metadata": {
  "kernelspec": {
   "display_name": "pitsa_lite",
   "language": "python",
   "name": "python3"
  },
  "language_info": {
   "codemirror_mode": {
    "name": "ipython",
    "version": 3
   },
   "file_extension": ".py",
   "mimetype": "text/x-python",
   "name": "python",
   "nbconvert_exporter": "python",
   "pygments_lexer": "ipython3",
   "version": "3.12.2"
  }
 },
 "nbformat": 4,
 "nbformat_minor": 2
}
