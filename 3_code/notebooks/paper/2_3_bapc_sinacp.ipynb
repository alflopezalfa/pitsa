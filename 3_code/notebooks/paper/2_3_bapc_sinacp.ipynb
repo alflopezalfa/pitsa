{
 "cells": [
  {
   "cell_type": "markdown",
   "metadata": {},
   "source": [
    "<a id=\"top\"></a>\n",
    " <font size=\"5\">BAPC</font>\n",
    "> \n",
    "\n",
    "> * Prepared by Alfredo López\n",
    "> * alfredo.lopez@scch.at\n",
    "> \n",
    "<hr>\n",
    "<hr>"
   ]
  },
  {
   "cell_type": "markdown",
   "metadata": {},
   "source": [
    "# Import"
   ]
  },
  {
   "cell_type": "code",
   "execution_count": 1,
   "metadata": {},
   "outputs": [],
   "source": [
    "import os\n",
    "import numpy as np\n",
    "import pandas as pd\n",
    "import pitsa_lite as pitsa\n",
    "import seaborn as sns\n",
    "import matplotlib.pyplot as plt\n",
    "from sklearn.neighbors import KNeighborsRegressor\n",
    "from IPython.display import display"
   ]
  },
  {
   "cell_type": "markdown",
   "metadata": {},
   "source": [
    "# Workflow"
   ]
  },
  {
   "cell_type": "markdown",
   "metadata": {},
   "source": [
    "- **Inputs**  \n",
    "    - **Data** A time series from a sinusoidal with a change in amplitud and phase (non-homogeneous driven harmonic oscillator) \n",
    "    - **Base model** : sinusoidal function $f_{(\\alpha, \\omega, \\phi)}(t) = \\alpha \\cos(\\omega t+\\phi)$ depending on a parameter $\\theta=(\\alpha, \\omega, \\phi)$ corresponding to amplitud, frecuency and phase\n",
    "    - **Correction model**: K-Neares-Neighboor (default) or LSTM \n",
    "- **BAPC**\n",
    "- **Explainability**  \n",
    "    - **Explanation**: vector $\\Delta \\theta$.\n",
    "    - **Importance**: vector $I \\theta $"
   ]
  },
  {
   "cell_type": "markdown",
   "metadata": {},
   "source": [
    "# Input"
   ]
  },
  {
   "cell_type": "code",
   "execution_count": 2,
   "metadata": {},
   "outputs": [],
   "source": [
    "csv_file = '3_sinacp'\n",
    "\n",
    "base_model_name = 'Cosine'\n",
    "correction_model_name = 'KNN' # fast but less accurate forecast\n",
    "#correction_model_name = 'LSTM' # slow but more accurate forecast\n",
    "\n",
    "# meta parameters\n",
    "forecast_lenght = 0 # forecast lenght\n",
    "correction_window = 48 # correction window size"
   ]
  },
  {
   "cell_type": "markdown",
   "metadata": {},
   "source": [
    "# Folders"
   ]
  },
  {
   "cell_type": "code",
   "execution_count": 3,
   "metadata": {},
   "outputs": [],
   "source": [
    "# Please enter the input data folder \n",
    "data_folder = '../../../2_data/processed/synthetic'\n",
    "\n",
    "# Please enter the output figure folder\n",
    "fig_base = '../../../4_results/figures'\n",
    "\n",
    "# save the figures ?\n",
    "save_fig = True\n",
    "\n",
    "# current convention\n",
    "notebook_name, _  = os.path.splitext(os.path.basename(globals()['__vsc_ipynb_file__']))\n",
    "fig_folder = os.path.join(fig_base, notebook_name)\n",
    "\n",
    "if save_fig and not os.path.exists(fig_folder):\n",
    "    print('Folder {} was created'.format(fig_folder))\n",
    "    os.mkdir(fig_folder)"
   ]
  },
  {
   "cell_type": "markdown",
   "metadata": {},
   "source": [
    "# Data"
   ]
  },
  {
   "cell_type": "code",
   "execution_count": 4,
   "metadata": {},
   "outputs": [
    {
     "name": "stdout",
     "output_type": "stream",
     "text": [
      "Figure ../../../4_results/figures\\2_3_bapc_sinacp\\3_sinacp_data.png was saved\n"
     ]
    },
    {
     "data": {
      "image/png": "[encoded data removed]",
      "text/plain": [
       "<Figure size 300x250 with 1 Axes>"
      ]
     },
     "metadata": {},
     "output_type": "display_data"
    }
   ],
   "source": [
    "# time series reading\n",
    "file_name = os.path.join(data_folder, csv_file + '.csv')\n",
    "df = pd.read_csv(file_name, index_col='t')\n",
    "df.reset_index(drop=True, inplace=True)\n",
    "\n",
    "# plot\n",
    "tast = 48\n",
    "t = df.index.values\n",
    "n_train = df.shape[0]\n",
    "\n",
    "with sns.plotting_context(\"talk\"):\n",
    "    \n",
    "    f, ax = plt.subplots(figsize=(3, 2.5))\n",
    "    ax.plot(df.index, df['y'], color='tab:blue', label=r'$y$')\n",
    "\n",
    "    xticks = np.array([0, tast-1, n_train-1])\n",
    "    ax.set_xticks(xticks, labels=xticks+1)\n",
    "    plt.locator_params(axis='y', nbins=3)\n",
    "    sns.despine()\n",
    "\n",
    "    if save_fig:\n",
    "        fig_name = os.path.join(fig_folder, '{}_data.png'.format(csv_file))\n",
    "        plt.savefig(fig_name, bbox_inches='tight', dpi=300)\n",
    "        print('Figure {} was saved'.format(fig_name))"
   ]
  },
  {
   "cell_type": "markdown",
   "metadata": {},
   "source": [
    "# Base model"
   ]
  },
  {
   "cell_type": "code",
   "execution_count": 5,
   "metadata": {},
   "outputs": [],
   "source": [
    "if base_model_name == 'Cosine':\n",
    "    period = 24\n",
    "    frequency = 2*np.pi/period\n",
    "    params_init = {'amplitude':1.0, 'phase':0.0}\n",
    "    params_fixed = {'intercept': 0.0, 'frequency':frequency}\n",
    "    fit_args = {'params_init': params_init, 'params_fixed': params_fixed}\n",
    "    base_model = pitsa.models.regression.Cosine(fit_args=fit_args)\n",
    "else:\n",
    "    error_msg = 'Model {} is not instantiated. Use this place to instantiate your new base model'.format(base_model_name)\n",
    "    raise ValueError(error_msg)"
   ]
  },
  {
   "cell_type": "markdown",
   "metadata": {},
   "source": [
    "# Correction model"
   ]
  },
  {
   "cell_type": "code",
   "execution_count": 6,
   "metadata": {},
   "outputs": [],
   "source": [
    "if correction_model_name == 'KNN':\n",
    "    model = KNeighborsRegressor(n_neighbors=1) #Set n_neighbors=1 for perfect fit\n",
    "    correction_model = pitsa.models.regression.SKLearnModel(model, name='1NN')\n",
    "elif correction_model_name == 'LSTM':\n",
    "    fit_args={'epochs':400, 'verbose':False}\n",
    "    ar_order = int(period/2)\n",
    "    SEED = 2022\n",
    "    correction_model = pitsa.models.timeseries.RNN(model=None, ar_order=ar_order, fit_args=fit_args, name='LSTM')\n",
    "    correction_model.initialize(lstm_units=16, SEED=SEED)"
   ]
  },
  {
   "cell_type": "markdown",
   "metadata": {},
   "source": [
    "# BAPC"
   ]
  },
  {
   "cell_type": "code",
   "execution_count": 7,
   "metadata": {},
   "outputs": [],
   "source": [
    "# intialize\n",
    "explainer = pitsa.xai.bapc.Explainer(\n",
    "base_model=base_model, \n",
    "correction_model=correction_model\n",
    ")\n",
    "\n",
    "# train data\n",
    "t = df['y'] .index.values\n",
    "y = df['y'] .values.flatten()\n",
    "\n",
    "# update\n",
    "explainer.update(t=t, y=y, correction_window=correction_window, fit_residual=True)\n",
    "\n",
    "# forecast\n",
    "if forecast_lenght > 0: \n",
    "    explainer.forecast(forecast_lenght=forecast_lenght)"
   ]
  },
  {
   "cell_type": "markdown",
   "metadata": {},
   "source": [
    "# Explainability"
   ]
  },
  {
   "cell_type": "code",
   "execution_count": 8,
   "metadata": {},
   "outputs": [
    {
     "name": "stdout",
     "output_type": "stream",
     "text": [
      "Figure was saved as ../../../4_results/figures\\2_3_bapc_sinacp\\3_sinacp_bapc.png\n"
     ]
    },
    {
     "data": {
      "image/png": "[encoded data removed]",
      "text/plain": [
       "<Figure size 300x250 with 1 Axes>"
      ]
     },
     "metadata": {},
     "output_type": "display_data"
    }
   ],
   "source": [
    "with sns.plotting_context(\"talk\"):\n",
    "\n",
    "    ax = explainer.plot(figsize=(3, 2.5)) \n",
    "    plt.locator_params(axis='x', nbins=3)\n",
    "    plt.locator_params(axis='y', nbins=3)\n",
    "    ax.set_xticks(xticks, labels=xticks+1)\n",
    "    ax.axvline(x=n_train - 1, color='gray', linestyle='--')\n",
    "    sns.despine()\n",
    "\n",
    "    # save the figure\n",
    "    if save_fig:\n",
    "        fig_name = os.path.join(fig_folder, '{}_bapc.png'.format(csv_file))\n",
    "        plt.savefig(fig_name, bbox_inches='tight', dpi=300)\n",
    "        print('Figure was saved as {}'.format(fig_name))"
   ]
  },
  {
   "cell_type": "code",
   "execution_count": 10,
   "metadata": {},
   "outputs": [
    {
     "data": {
      "text/html": [
       "<div>\n",
       "<style scoped>\n",
       "    .dataframe tbody tr th:only-of-type {\n",
       "        vertical-align: middle;\n",
       "    }\n",
       "\n",
       "    .dataframe tbody tr th {\n",
       "        vertical-align: top;\n",
       "    }\n",
       "\n",
       "    .dataframe thead th {\n",
       "        text-align: right;\n",
       "    }\n",
       "</style>\n",
       "<table border=\"1\" class=\"dataframe\">\n",
       "  <thead>\n",
       "    <tr style=\"text-align: right;\">\n",
       "      <th></th>\n",
       "      <th>amplitude</th>\n",
       "      <th>decay</th>\n",
       "      <th>frequency</th>\n",
       "      <th>phase</th>\n",
       "    </tr>\n",
       "  </thead>\n",
       "  <tbody>\n",
       "    <tr>\n",
       "      <th>95</th>\n",
       "      <td>0.2</td>\n",
       "      <td>0.0</td>\n",
       "      <td>0.0</td>\n",
       "      <td>0.0</td>\n",
       "    </tr>\n",
       "  </tbody>\n",
       "</table>\n",
       "</div>"
      ],
      "text/plain": [
       "    amplitude  decay  frequency  phase\n",
       "95        0.2    0.0        0.0    0.0"
      ]
     },
     "metadata": {},
     "output_type": "display_data"
    },
    {
     "data": {
      "text/html": [
       "<div>\n",
       "<style scoped>\n",
       "    .dataframe tbody tr th:only-of-type {\n",
       "        vertical-align: middle;\n",
       "    }\n",
       "\n",
       "    .dataframe tbody tr th {\n",
       "        vertical-align: top;\n",
       "    }\n",
       "\n",
       "    .dataframe thead th {\n",
       "        text-align: right;\n",
       "    }\n",
       "</style>\n",
       "<table border=\"1\" class=\"dataframe\">\n",
       "  <thead>\n",
       "    <tr style=\"text-align: right;\">\n",
       "      <th></th>\n",
       "      <th>amplitude</th>\n",
       "      <th>decay</th>\n",
       "      <th>frequency</th>\n",
       "      <th>phase</th>\n",
       "    </tr>\n",
       "  </thead>\n",
       "  <tbody>\n",
       "    <tr>\n",
       "      <th>95</th>\n",
       "      <td>0.214</td>\n",
       "      <td>0.0</td>\n",
       "      <td>0.0</td>\n",
       "      <td>0.011</td>\n",
       "    </tr>\n",
       "  </tbody>\n",
       "</table>\n",
       "</div>"
      ],
      "text/plain": [
       "    amplitude  decay  frequency  phase\n",
       "95      0.214    0.0        0.0  0.011"
      ]
     },
     "metadata": {},
     "output_type": "display_data"
    },
    {
     "data": {
      "text/html": [
       "<div>\n",
       "<style scoped>\n",
       "    .dataframe tbody tr th:only-of-type {\n",
       "        vertical-align: middle;\n",
       "    }\n",
       "\n",
       "    .dataframe tbody tr th {\n",
       "        vertical-align: top;\n",
       "    }\n",
       "\n",
       "    .dataframe thead th {\n",
       "        text-align: right;\n",
       "    }\n",
       "</style>\n",
       "<table border=\"1\" class=\"dataframe\">\n",
       "  <thead>\n",
       "    <tr style=\"text-align: right;\">\n",
       "      <th></th>\n",
       "      <th>amplitude</th>\n",
       "      <th>decay</th>\n",
       "      <th>frequency</th>\n",
       "      <th>phase</th>\n",
       "    </tr>\n",
       "  </thead>\n",
       "  <tbody>\n",
       "    <tr>\n",
       "      <th>95</th>\n",
       "      <td>0.2</td>\n",
       "      <td>0.0</td>\n",
       "      <td>0.0</td>\n",
       "      <td>0.0</td>\n",
       "    </tr>\n",
       "  </tbody>\n",
       "</table>\n",
       "</div>"
      ],
      "text/plain": [
       "    amplitude  decay  frequency  phase\n",
       "95        0.2    0.0        0.0    0.0"
      ]
     },
     "metadata": {},
     "output_type": "display_data"
    },
    {
     "data": {
      "text/html": [
       "<div>\n",
       "<style scoped>\n",
       "    .dataframe tbody tr th:only-of-type {\n",
       "        vertical-align: middle;\n",
       "    }\n",
       "\n",
       "    .dataframe tbody tr th {\n",
       "        vertical-align: top;\n",
       "    }\n",
       "\n",
       "    .dataframe thead th {\n",
       "        text-align: right;\n",
       "    }\n",
       "</style>\n",
       "<table border=\"1\" class=\"dataframe\">\n",
       "  <thead>\n",
       "    <tr style=\"text-align: right;\">\n",
       "      <th></th>\n",
       "      <th>amplitude</th>\n",
       "      <th>decay</th>\n",
       "      <th>frequency</th>\n",
       "      <th>phase</th>\n",
       "    </tr>\n",
       "  </thead>\n",
       "  <tbody>\n",
       "    <tr>\n",
       "      <th>95</th>\n",
       "      <td>0.208</td>\n",
       "      <td>0.0</td>\n",
       "      <td>0.0</td>\n",
       "      <td>0.004</td>\n",
       "    </tr>\n",
       "  </tbody>\n",
       "</table>\n",
       "</div>"
      ],
      "text/plain": [
       "    amplitude  decay  frequency  phase\n",
       "95      0.208    0.0        0.0  0.004"
      ]
     },
     "metadata": {},
     "output_type": "display_data"
    }
   ],
   "source": [
    "# integrated gradient at t\n",
    "t = n_train - 1\n",
    "explanation, importance = explainer.explain(t=t)\n",
    "display(explanation.round(1))\n",
    "display(explanation.round(3))\n",
    "display(importance.round(1))\n",
    "display(importance.round(3))\n",
    "\n",
    "surrogate_correction_at_t_test = np.array(explainer.first_base_model_at_t_test)[t] - np.array(explainer.second_base_model_at_t_test)[t]\n",
    "tolerance = 1e-5\n",
    "assert np.all(np.isclose(importance.sum(axis=1), surrogate_correction_at_t_test, atol=tolerance)), 'Sum of the importance is not equal to the total within the tolerance'"
   ]
  },
  {
   "cell_type": "markdown",
   "metadata": {},
   "source": [
    "# Bottom"
   ]
  }
 ],
 "metadata": {
  "kernelspec": {
   "display_name": "pitsa_lite",
   "language": "python",
   "name": "python3"
  },
  "language_info": {
   "codemirror_mode": {
    "name": "ipython",
    "version": 3
   },
   "file_extension": ".py",
   "mimetype": "text/x-python",
   "name": "python",
   "nbconvert_exporter": "python",
   "pygments_lexer": "ipython3",
   "version": "3.12.2"
  }
 },
 "nbformat": 4,
 "nbformat_minor": 2
}
