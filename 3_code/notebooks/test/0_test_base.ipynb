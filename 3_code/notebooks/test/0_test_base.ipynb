{
 "cells": [
  {
   "cell_type": "markdown",
   "metadata": {},
   "source": [
    "<a id=\"top\"></a>\n",
    " <font size=\"5\">test base</font>\n",
    "> \n",
    "\n",
    "> * Prepared by Alfredo López\n",
    "> * alfredo.lopez@scch.at\n",
    "> \n",
    "<hr>\n",
    "<hr>"
   ]
  },
  {
   "cell_type": "code",
   "execution_count": 1,
   "metadata": {},
   "outputs": [],
   "source": [
    "import pitsa\n",
    "import numpy as np\n",
    "import importlib\n",
    "import pandas as pd\n",
    "import matplotlib.pyplot as plt\n",
    "from sklearn.linear_model import LinearRegression\n",
    "import unittest"
   ]
  },
  {
   "cell_type": "markdown",
   "metadata": {},
   "source": [
    "# base_model"
   ]
  },
  {
   "cell_type": "code",
   "execution_count": 2,
   "metadata": {},
   "outputs": [
    {
     "name": "stderr",
     "output_type": "stream",
     "text": [
      "test_case_1 (__main__.TestArgs1.test_case_1) ... ok\n",
      "test_case_1 (__main__.TestArgs2.test_case_1) ... ok\n",
      "test_case_1 (__main__.TestArgs3.test_case_1) ... ok\n",
      "test_case_1 (__main__.TestTimestampsConsistency.test_case_1) ... ok\n",
      "\n",
      "----------------------------------------------------------------------\n",
      "Ran 4 tests in 0.005s\n",
      "\n",
      "OK\n"
     ]
    },
    {
     "data": {
      "text/plain": [
       "<unittest.main.TestProgram at 0x1f94797c910>"
      ]
     },
     "execution_count": 2,
     "metadata": {},
     "output_type": "execute_result"
    }
   ],
   "source": [
    "class TestTimestampsConsistency(unittest.TestCase):\n",
    "    def test_case_1(self):\n",
    "        t1 = np.arange(0, 10, 1)\n",
    "        t2 = np.arange(8, 20, 1)\n",
    "        start, end = pitsa.base.base_model.check_timestamps_consistency(t1, t2)\n",
    "        self.assertEqual(start, 8)\n",
    "        self.assertEqual(end, 19)\n",
    "\n",
    "class TestArgs1(unittest.TestCase):\n",
    "    def test_case_1(self):\n",
    "        y = pd.Series([1, 2, 3, 4, 5, 6, 7, 8, 9, 10])\n",
    "        t, y = pitsa.base.base_model.check_args_1(t=None, y=y)\n",
    "        self.assertEqual(t.tolist(), np.arange(0, 10).reshape(-1, 1).tolist())\t\n",
    "\n",
    "class TestArgs2(unittest.TestCase):\n",
    "    def test_case_1(self):\n",
    "        t_ref = np.arange(0, 10, 1)\n",
    "        t, start, end = pitsa.base.base_model.check_args_2(t_ref, t=None, start=2, end=6)\n",
    "        self.assertEqual(t.tolist(), np.arange(2, 7).tolist())\n",
    "        self.assertEqual(start, 2)\n",
    "        self.assertEqual(end, 6)\n",
    "\n",
    "class TestArgs3(unittest.TestCase):\n",
    "    def test_case_1(self):\n",
    "        start, end, left, right = pitsa.models.timeseries.check_args_3(start=2, end=6, ar_order=2, n_samples=10, dynamic=True)\n",
    "        self.assertEqual(start, 2)\n",
    "        self.assertEqual(end, 6)\n",
    "        self.assertEqual(len(left), 0)\n",
    "        self.assertEqual(len(right), 0)\n",
    "        \n",
    "\n",
    "\n",
    "unittest.main(argv=[''], verbosity=2, exit=False)"
   ]
  }
 ],
 "metadata": {
  "kernelspec": {
   "display_name": "pitsa",
   "language": "python",
   "name": "python3"
  },
  "language_info": {
   "codemirror_mode": {
    "name": "ipython",
    "version": 3
   },
   "file_extension": ".py",
   "mimetype": "text/x-python",
   "name": "python",
   "nbconvert_exporter": "python",
   "pygments_lexer": "ipython3",
   "version": "3.11.11"
  }
 },
 "nbformat": 4,
 "nbformat_minor": 2
}
